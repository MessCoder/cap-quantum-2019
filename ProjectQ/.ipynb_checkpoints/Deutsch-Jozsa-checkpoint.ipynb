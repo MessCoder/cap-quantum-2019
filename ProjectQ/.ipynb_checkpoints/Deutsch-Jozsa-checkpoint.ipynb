{
 "cells": [
  {
   "cell_type": "markdown",
   "metadata": {},
   "source": [
    "# El algoritmo de Deutsch-Jozsa\n",
    "\n",
    "Vamos a usar ProjectQ para comprobar el funcionamiento del algoritmo de Deutsch-Jozsa. En la imagen tenemos su circuito, que depende de un oráculo. \n",
    "\n",
    "<img src=\"deutsch-jozsa.png\" width=60%>\n",
    "\n",
    "Primero definimos una función que toma como parámetros el *engine* de ejecución, el número de qubits y el oráculo de la función que queremos testear."
   ]
  },
  {
   "cell_type": "code",
   "execution_count": 1,
   "metadata": {
    "collapsed": true
   },
   "outputs": [],
   "source": [
    "import projectq\n",
    "from projectq.ops import All, Measure, H, X, CNOT\n",
    "\n",
    "def deutsch_jozsa(eng,n,oracle):\n",
    "    \n",
    "    # Recibe el entorno de ejecución, el número de qubits y el oráculo\n",
    "    # Devuelve true si la función es constante y false si no \n",
    "    \n",
    "    q = eng.allocate_qureg(n)   # Los n qubits de entrada al oráculo\n",
    "    out = eng.allocate_qubit()  # El qubit de salida del oráculo\n",
    "    \n",
    "    All(H) | q\n",
    "    X | out      # ¡OJO! El estado inicial del qubit de salida del oráculo es |1>\n",
    "    H | out\n",
    "    \n",
    "    q, out = oracle(eng,n,q,out)  # Llamada al oráculo\n",
    "    \n",
    "    \n",
    "    All(H) | q\n",
    "    All(Measure) | q\n",
    "    Measure | out\n",
    "    \n",
    "    eng.flush()\n",
    "    \n",
    "    # Comprobamos si ha salido |00....0>\n",
    "    \n",
    "    for i in range(n):\n",
    "        if int(q[i])!=0:\n",
    "            return False\n",
    "    return True"
   ]
  },
  {
   "cell_type": "markdown",
   "metadata": {},
   "source": [
    "Ahora, definimos un par de oráculos, uno correspondiente a una función constante y otro a una función equilibrada, para probar el funcionamiento del algoritmo."
   ]
  },
  {
   "cell_type": "code",
   "execution_count": 2,
   "metadata": {
    "collapsed": true
   },
   "outputs": [],
   "source": [
    "def constante(eng,n,q,out):\n",
    "    # Oráculo correspondiente a una función booleana que siempre devuelve 1\n",
    "    \n",
    "    CNOT | (q[0],out)\n",
    "    X | q[0]\n",
    "    CNOT | (q[0],out)\n",
    "    X | q[0]\n",
    "    \n",
    "    return q, out\n",
    "\n",
    "def equilibrada(eng,n,q,out):\n",
    "    # Oráculo correspondiente a una función booleana equilibrada\n",
    "    \n",
    "    CNOT | (q[0],out)\n",
    "    \n",
    "    return q, out"
   ]
  },
  {
   "cell_type": "markdown",
   "metadata": {},
   "source": [
    "Ejecutamos el algoritmo con la función constante para un caso de 10 qubits. Como esperábamos, la respuesta es *True*"
   ]
  },
  {
   "cell_type": "code",
   "execution_count": 3,
   "metadata": {},
   "outputs": [
    {
     "data": {
      "text/plain": [
       "True"
      ]
     },
     "execution_count": 3,
     "metadata": {},
     "output_type": "execute_result"
    }
   ],
   "source": [
    "eng = projectq.MainEngine()\n",
    "deutsch_jozsa(eng,10,constante)"
   ]
  },
  {
   "cell_type": "markdown",
   "metadata": {},
   "source": [
    "Finalmente, usamos el algoritmo con la función equilibrada y obtenemos *False*"
   ]
  },
  {
   "cell_type": "code",
   "execution_count": 4,
   "metadata": {},
   "outputs": [
    {
     "data": {
      "text/plain": [
       "False"
      ]
     },
     "execution_count": 4,
     "metadata": {},
     "output_type": "execute_result"
    }
   ],
   "source": [
    "deutsch_jozsa(eng,10,equilibrada)"
   ]
  }
 ],
 "metadata": {
  "kernelspec": {
   "display_name": "Python 3",
   "language": "python",
   "name": "python3"
  },
  "language_info": {
   "codemirror_mode": {
    "name": "ipython",
    "version": 3
   },
   "file_extension": ".py",
   "mimetype": "text/x-python",
   "name": "python",
   "nbconvert_exporter": "python",
   "pygments_lexer": "ipython3",
   "version": "3.6.8"
  }
 },
 "nbformat": 4,
 "nbformat_minor": 2
}
