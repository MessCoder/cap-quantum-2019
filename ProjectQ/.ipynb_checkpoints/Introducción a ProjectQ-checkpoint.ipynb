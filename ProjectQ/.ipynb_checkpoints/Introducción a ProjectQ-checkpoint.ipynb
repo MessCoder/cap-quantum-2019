{
 "cells": [
  {
   "cell_type": "markdown",
   "metadata": {},
   "source": [
    "# Introducción a ProjectQ\n",
    "\n",
    "En este notebook exploraremos las funciones principales de ProjectQ para la simulación y ejecución de circuitos.\n",
    "\n",
    "## Simulando un circuito\n",
    "\n",
    "ProjectQ permite simular circuitos cuánticos en el ordenador local. Veamos cómo conseguirlo con un ejemplo sencillo. Este primer circuito simplemente aplica una puerta de Hadamard a un qubit y lo mide. El resultado será, aleatoriamente, un 0 un 1. Ejecutando el código en distintas ocasiones, se obtendrá 0 o 1 con un 50% de probabilidad.\n",
    "\n",
    "Nótese que hemos definido una función que es la que encapsula todas las puertas del circuito. Esta función recibe un *engine* (un motor de ejecución, que puede ser un simulador, un ordenador cuántico real...) y devuelve el estado de los qubits tras la aplicación de las puertas. Esto es útil, porque nos permite reutilizar el mismo circuito en distintos entornos de ejecución, como veremos más abajo."
   ]
  },
  {
   "cell_type": "code",
   "execution_count": 1,
   "metadata": {},
   "outputs": [
    {
     "name": "stdout",
     "output_type": "stream",
     "text": [
      "1\n"
     ]
    }
   ],
   "source": [
    "import projectq\n",
    "from projectq.ops import Measure, H\n",
    "\n",
    "def hello_world(eng):\n",
    "    \n",
    "    qubit = eng.allocate_qubit() # Declaramos un qubit\n",
    "    H | qubit                    # Aplicamos la puerta H al qubit\n",
    "    Measure | qubit              # Medimos el qubit\n",
    "    eng.flush()                  # Mandamos todas las instrucciones al engine para que las ejecute\n",
    "    \n",
    "    return qubit                 # Devolvemos el estado del qubit\n",
    "\n",
    "\n",
    "eng = projectq.MainEngine()  # Creamos un 'engine' que nos permitirá simular nuestros circuitos\n",
    "qubit = hello_world(eng)     # Usamos el simulador para ejecutar el circuito\n",
    "\n",
    "print(int(qubit))            # Convertimos el valor medido en el qubit a entero y lo mostramos "
   ]
  },
  {
   "cell_type": "markdown",
   "metadata": {},
   "source": [
    "Vamos a ejecutar 1000 veces el circuito anterior, calculando el número de aparaciones de cada resultado."
   ]
  },
  {
   "cell_type": "code",
   "execution_count": 2,
   "metadata": {},
   "outputs": [
    {
     "name": "stdout",
     "output_type": "stream",
     "text": [
      "{0: 484, 1: 516}\n"
     ]
    }
   ],
   "source": [
    "resultados = {0:0,1:0}\n",
    "\n",
    "for _ in range(1000):\n",
    "    qubit = hello_world(eng)       \n",
    "    valor = int(qubit)\n",
    "    resultados[valor]+= 1\n",
    "\n",
    "print(resultados)\n",
    "    "
   ]
  },
  {
   "cell_type": "markdown",
   "metadata": {},
   "source": [
    "Al tratarse de un simulador, podemos acceder a la función de onda de los qubits, algo que en los ordenadores cuánticos reales no es posible. Veamos cómo se hace usando el mismo circuito de antes. Es importante darse cuenta de que **no realizamos la medida** antes de acceder a las amplitudes y probabilidades, porque eso haría colapsar la función de onda en un resultado concreto. Sin embargo, sí que debemos medir después, para evitar un **error** por parte del compilador (todos los qubits de todos los circuitos deben medirse o devolverse al estado $|0\\rangle$ antes de terminar)."
   ]
  },
  {
   "cell_type": "code",
   "execution_count": 3,
   "metadata": {},
   "outputs": [
    {
     "name": "stdout",
     "output_type": "stream",
     "text": [
      "Amplitudes: {'0': (0.7071067811865475+0j), '1': (0.7071067811865475+0j)}\n",
      "Probabilidades {'0': 0.4999999999999999, '1': 0.4999999999999999}\n"
     ]
    }
   ],
   "source": [
    "qubit = eng.allocate_qubit()\n",
    "H | qubit\n",
    "eng.flush()\n",
    "\n",
    "amp = {}\n",
    "prob = {}\n",
    "for val in ['0','1']:\n",
    "    amp[val]  = eng.backend.get_amplitude(val,qubit)\n",
    "    prob[val] = eng.backend.get_probability(val,qubit)\n",
    "    \n",
    "print('Amplitudes:', amp)\n",
    "print('Probabilidades', prob)\n",
    "\n",
    "Measure | qubit"
   ]
  },
  {
   "cell_type": "markdown",
   "metadata": {},
   "source": [
    "## Ejecutando el circuito en los ordenadores cuánticos de IBM\n",
    "\n",
    "Ejecutar un circuito en un ordenador cuántico de IBM es tan sencillo como cambiar el *backend* en la declaración del motor de ejecución. Al especificar el *backend* se pueden establecer también otras opciones, como el número de repeticiones. \n",
    "\n",
    "Para realizar la ejecución, se nos pedirán las credenciales de acceso a la <a href=\"https://quantumexperience.ng.bluemix.net/\"> IBM Quantum Experience</a>."
   ]
  },
  {
   "cell_type": "code",
   "execution_count": 4,
   "metadata": {},
   "outputs": [
    {
     "name": "stdout",
     "output_type": "stream",
     "text": [
      "- Authenticating...\n",
      "IBM QE user (e-mail) > efernandezca@uniovi.es\n",
      "IBM QE password > ········\n",
      "- Running code: \n",
      "include \"qelib1.inc\";\n",
      "qreg q[1];\n",
      "creg c[1];\n",
      "h q[0];\n",
      "measure q[0] -> c[0];\n",
      "- Waiting for results...\n",
      "Waiting for results. [Job ID: 5ca34dab3d5fa700598a70c3]\n",
      "Currently there are 5 jobs queued for execution on ibmqx4.\n"
     ]
    },
    {
     "ename": "Exception",
     "evalue": "Timeout. The ID of your submitted job is 5ca34dab3d5fa700598a70c3.\n raised in:\n'  File \"/Users/elias/anaconda/lib/python3.6/site-packages/projectq/backends/_ibm/_ibm_http_client.py\", line 194, in _get_result'\n'    .format(execution_id))'",
     "output_type": "error",
     "traceback": [
      "\u001b[0;31m---------------------------------------------------------------------------\u001b[0m",
      "\u001b[0;31mException\u001b[0m                                 Traceback (most recent call last)",
      "\u001b[0;32m<ipython-input-4-069b552b4dcd>\u001b[0m in \u001b[0;36m<module>\u001b[0;34m()\u001b[0m\n\u001b[1;32m      6\u001b[0m                           engine_list=projectq.setups.ibm.get_engine_list())\n\u001b[1;32m      7\u001b[0m \u001b[0;34m\u001b[0m\u001b[0m\n\u001b[0;32m----> 8\u001b[0;31m \u001b[0mqubit\u001b[0m \u001b[0;34m=\u001b[0m \u001b[0mhello_world\u001b[0m\u001b[0;34m(\u001b[0m\u001b[0meng\u001b[0m\u001b[0;34m)\u001b[0m\u001b[0;34m\u001b[0m\u001b[0;34m\u001b[0m\u001b[0m\n\u001b[0m",
      "\u001b[0;32m<ipython-input-1-8c2a5a3d256a>\u001b[0m in \u001b[0;36mhello_world\u001b[0;34m(eng)\u001b[0m\n\u001b[1;32m      7\u001b[0m     \u001b[0mH\u001b[0m \u001b[0;34m|\u001b[0m \u001b[0mqubit\u001b[0m                    \u001b[0;31m# Aplicamos la puerta H al qubit\u001b[0m\u001b[0;34m\u001b[0m\u001b[0;34m\u001b[0m\u001b[0m\n\u001b[1;32m      8\u001b[0m     \u001b[0mMeasure\u001b[0m \u001b[0;34m|\u001b[0m \u001b[0mqubit\u001b[0m              \u001b[0;31m# Medimos el qubit\u001b[0m\u001b[0;34m\u001b[0m\u001b[0;34m\u001b[0m\u001b[0m\n\u001b[0;32m----> 9\u001b[0;31m     \u001b[0meng\u001b[0m\u001b[0;34m.\u001b[0m\u001b[0mflush\u001b[0m\u001b[0;34m(\u001b[0m\u001b[0;34m)\u001b[0m                  \u001b[0;31m# Mandamos todas las instrucciones al engine para que las ejecute\u001b[0m\u001b[0;34m\u001b[0m\u001b[0;34m\u001b[0m\u001b[0m\n\u001b[0m\u001b[1;32m     10\u001b[0m \u001b[0;34m\u001b[0m\u001b[0m\n\u001b[1;32m     11\u001b[0m     \u001b[0;32mreturn\u001b[0m \u001b[0mqubit\u001b[0m                 \u001b[0;31m# Devolvemos el estado del qubit\u001b[0m\u001b[0;34m\u001b[0m\u001b[0;34m\u001b[0m\u001b[0m\n",
      "\u001b[0;32m/Users/elias/anaconda/lib/python3.6/site-packages/projectq/cengines/_main.py\u001b[0m in \u001b[0;36mflush\u001b[0;34m(self, deallocate_qubits)\u001b[0m\n\u001b[1;32m    302\u001b[0m                 \u001b[0mqb\u001b[0m \u001b[0;34m=\u001b[0m \u001b[0mself\u001b[0m\u001b[0;34m.\u001b[0m\u001b[0mactive_qubits\u001b[0m\u001b[0;34m.\u001b[0m\u001b[0mpop\u001b[0m\u001b[0;34m(\u001b[0m\u001b[0;34m)\u001b[0m\u001b[0;34m\u001b[0m\u001b[0;34m\u001b[0m\u001b[0m\n\u001b[1;32m    303\u001b[0m                 \u001b[0mqb\u001b[0m\u001b[0;34m.\u001b[0m\u001b[0m__del__\u001b[0m\u001b[0;34m(\u001b[0m\u001b[0;34m)\u001b[0m\u001b[0;34m\u001b[0m\u001b[0;34m\u001b[0m\u001b[0m\n\u001b[0;32m--> 304\u001b[0;31m         \u001b[0mself\u001b[0m\u001b[0;34m.\u001b[0m\u001b[0mreceive\u001b[0m\u001b[0;34m(\u001b[0m\u001b[0;34m[\u001b[0m\u001b[0mCommand\u001b[0m\u001b[0;34m(\u001b[0m\u001b[0mself\u001b[0m\u001b[0;34m,\u001b[0m \u001b[0mFlushGate\u001b[0m\u001b[0;34m(\u001b[0m\u001b[0;34m)\u001b[0m\u001b[0;34m,\u001b[0m \u001b[0;34m(\u001b[0m\u001b[0;34m[\u001b[0m\u001b[0mWeakQubitRef\u001b[0m\u001b[0;34m(\u001b[0m\u001b[0mself\u001b[0m\u001b[0;34m,\u001b[0m \u001b[0;34m-\u001b[0m\u001b[0;36m1\u001b[0m\u001b[0;34m)\u001b[0m\u001b[0;34m]\u001b[0m\u001b[0;34m,\u001b[0m\u001b[0;34m)\u001b[0m\u001b[0;34m)\u001b[0m\u001b[0;34m]\u001b[0m\u001b[0;34m)\u001b[0m\u001b[0;34m\u001b[0m\u001b[0;34m\u001b[0m\u001b[0m\n\u001b[0m",
      "\u001b[0;32m/Users/elias/anaconda/lib/python3.6/site-packages/projectq/cengines/_main.py\u001b[0m in \u001b[0;36mreceive\u001b[0;34m(self, command_list)\u001b[0m\n\u001b[1;32m    264\u001b[0m                 then send on)\n\u001b[1;32m    265\u001b[0m         \"\"\"\n\u001b[0;32m--> 266\u001b[0;31m         \u001b[0mself\u001b[0m\u001b[0;34m.\u001b[0m\u001b[0msend\u001b[0m\u001b[0;34m(\u001b[0m\u001b[0mcommand_list\u001b[0m\u001b[0;34m)\u001b[0m\u001b[0;34m\u001b[0m\u001b[0;34m\u001b[0m\u001b[0m\n\u001b[0m\u001b[1;32m    267\u001b[0m \u001b[0;34m\u001b[0m\u001b[0m\n\u001b[1;32m    268\u001b[0m     \u001b[0;32mdef\u001b[0m \u001b[0msend\u001b[0m\u001b[0;34m(\u001b[0m\u001b[0mself\u001b[0m\u001b[0;34m,\u001b[0m \u001b[0mcommand_list\u001b[0m\u001b[0;34m)\u001b[0m\u001b[0;34m:\u001b[0m\u001b[0;34m\u001b[0m\u001b[0;34m\u001b[0m\u001b[0m\n",
      "\u001b[0;32m/Users/elias/anaconda/lib/python3.6/site-packages/projectq/cengines/_main.py\u001b[0m in \u001b[0;36msend\u001b[0;34m(self, command_list)\u001b[0m\n\u001b[1;32m    286\u001b[0m                                              \"\\n\" + repr(last_line[-2]))\n\u001b[1;32m    287\u001b[0m                 \u001b[0mcompact_exception\u001b[0m\u001b[0;34m.\u001b[0m\u001b[0m__cause__\u001b[0m \u001b[0;34m=\u001b[0m \u001b[0;32mNone\u001b[0m\u001b[0;34m\u001b[0m\u001b[0;34m\u001b[0m\u001b[0m\n\u001b[0;32m--> 288\u001b[0;31m                 \u001b[0;32mraise\u001b[0m \u001b[0mcompact_exception\u001b[0m  \u001b[0;31m# use verbose=True for more info\u001b[0m\u001b[0;34m\u001b[0m\u001b[0;34m\u001b[0m\u001b[0m\n\u001b[0m\u001b[1;32m    289\u001b[0m \u001b[0;34m\u001b[0m\u001b[0m\n\u001b[1;32m    290\u001b[0m     \u001b[0;32mdef\u001b[0m \u001b[0mflush\u001b[0m\u001b[0;34m(\u001b[0m\u001b[0mself\u001b[0m\u001b[0;34m,\u001b[0m \u001b[0mdeallocate_qubits\u001b[0m\u001b[0;34m=\u001b[0m\u001b[0;32mFalse\u001b[0m\u001b[0;34m)\u001b[0m\u001b[0;34m:\u001b[0m\u001b[0;34m\u001b[0m\u001b[0;34m\u001b[0m\u001b[0m\n",
      "\u001b[0;31mException\u001b[0m: Timeout. The ID of your submitted job is 5ca34dab3d5fa700598a70c3.\n raised in:\n'  File \"/Users/elias/anaconda/lib/python3.6/site-packages/projectq/backends/_ibm/_ibm_http_client.py\", line 194, in _get_result'\n'    .format(execution_id))'"
     ]
    }
   ],
   "source": [
    "import projectq.setups.ibm\n",
    "from projectq.backends import IBMBackend\n",
    "\n",
    "eng = projectq.MainEngine(IBMBackend(use_hardware=True, num_runs=1024,verbose=True,\n",
    "                                     device='ibmqx4', num_retries=30),\n",
    "                          engine_list=projectq.setups.ibm.get_engine_list())\n",
    "    \n",
    "qubit = hello_world(eng)"
   ]
  },
  {
   "cell_type": "markdown",
   "metadata": {},
   "source": [
    "Si la ejecución tardara demasiado o si se quiere recuperar más tarde los resultados, se puede hacer especificando el identificador de trabajo en los parámetros de inicialización. Es necesario añadir alguna instrucción (aunque sea solamente una medida) para forzar la ejecución. "
   ]
  },
  {
   "cell_type": "code",
   "execution_count": 5,
   "metadata": {},
   "outputs": [
    {
     "name": "stdout",
     "output_type": "stream",
     "text": [
      "IBM QE user (e-mail) > efernandezca@uniovi.es\n",
      "IBM QE password > ········\n",
      "Waiting for results. [Job ID: 5ca34dab3d5fa700598a70c3]\n",
      "Currently there are 4 jobs queued for execution on ibmqx4.\n",
      "00000 with p = 0.5888671875\n",
      "10000 with p = 0.4111328125*\n"
     ]
    }
   ],
   "source": [
    "eng = projectq.MainEngine(IBMBackend(use_hardware=True, num_runs=1024,\n",
    "                            verbose=True, device='ibmqx4',\n",
    "                            retrieve_execution=\"5ca34dab3d5fa700598a70c3\"),  \n",
    "                 engine_list=projectq.setups.ibm.get_engine_list())\n",
    "\n",
    "qubit = eng.allocate_qubit()\n",
    "Measure | qubit\n",
    "eng.flush()\n"
   ]
  },
  {
   "cell_type": "markdown",
   "metadata": {},
   "source": [
    "## Breve catálogo de algunas de las puertas y operaciones de ProjectQ\n",
    "\n",
    "Como referencia para posteriores sesiones, el siguiente bloque de código muestra cómo se pueden utilizar en ProjectQ algunas puertas y operaciones habituales. Se ha implementado el circuito de la figura\n",
    "\n",
    "<img src=\"circuito.png\" width=50%>"
   ]
  },
  {
   "cell_type": "code",
   "execution_count": 6,
   "metadata": {},
   "outputs": [
    {
     "name": "stdout",
     "output_type": "stream",
     "text": [
      "[1, 0, 0, 1, 1]\n"
     ]
    }
   ],
   "source": [
    "import numpy as np\n",
    "from projectq.ops import *\n",
    "from projectq.meta import Control\n",
    "\n",
    "eng = projectq.MainEngine()\n",
    "\n",
    "q = eng.allocate_qureg(5)  #Utilizaremos 5 qubits. Nótese que usamos \"allocate_qureg\"\n",
    "\n",
    "All(H) | q                 #Aplicamos puertas H a TODOS los qubits \n",
    "\n",
    "T | q[0]                   #Puerta T\n",
    "\n",
    "Y | q[1]                   #Puerta Y\n",
    "\n",
    "Z | q[2]                   #Puerta Z\n",
    "\n",
    "C(S) | (q[3],q[4])         #Ejemplo de cómo poner control a una puerta\n",
    "    \n",
    "CNOT | (q[0],q[1])         #Puerta CNOT \n",
    "\n",
    "Toffoli | (q[2],q[3],q[4]) #Puerta de Toffoli\n",
    "\n",
    "X | q[0]                   #Puerta X\n",
    "\n",
    "get_inverse(T) | q[1]      #Puerta T daga    \n",
    "\n",
    "Swap | (q[2],q[4])         #Puerta swap \n",
    "\n",
    "with Control(eng,q[0:4]):  #Forma alternativa de especificar los controles de una puerta\n",
    "    R(.3) | q[4]            #Puerta de fase \n",
    "\n",
    "All(Measure) | q           #Medimos TODOS los qubits\n",
    "\n",
    "eng.flush()\n",
    "\n",
    "print([int(q[i]) for i in range(5)]) # Imprimir el resultado de la medida"
   ]
  }
 ],
 "metadata": {
  "kernelspec": {
   "display_name": "Python 3",
   "language": "python",
   "name": "python3"
  },
  "language_info": {
   "codemirror_mode": {
    "name": "ipython",
    "version": 3
   },
   "file_extension": ".py",
   "mimetype": "text/x-python",
   "name": "python",
   "nbconvert_exporter": "python",
   "pygments_lexer": "ipython3",
   "version": "3.6.8"
  }
 },
 "nbformat": 4,
 "nbformat_minor": 2
}
