{
 "cells": [
  {
   "cell_type": "markdown",
   "metadata": {},
   "source": [
    "# Resolviendo el modelo de Ising y el problema del corte máximo con un ordenador de D-Wave\n",
    "\n",
    "En este notebook, vamos a utilizar un ordenador cuántico de D-Wave para resolver casos del modelo de Ising que se corresponden con instancias del problema del corte máximo en grafos. \n",
    "\n",
    "El hamiltoniano del modelo de Ising es $$H = \\sum_{i,j=1}^n J_{i,j}Z_iZ_j + \\sum_{i=1}^n h_iZ_i$$ \n",
    "\n",
    "En el caso particular del problema del corte máximo, se tiene $J_{i,j}=1$ y $h_i=0$ para todos los valores $i,j$.\n",
    "\n"
   ]
  },
  {
   "cell_type": "markdown",
   "metadata": {},
   "source": [
    "Definir el modelo con el que vamos a trabajar es muy sencillo: se reduce a especificar los valores de las conexiones entre pares de qubits y los coeficientes $h_i$. Por ejemplo:"
   ]
  },
  {
   "cell_type": "code",
   "execution_count": 2,
   "metadata": {},
   "outputs": [
    {
     "name": "stdout",
     "output_type": "stream",
     "text": [
      "BinaryQuadraticModel({0: 0, 1: 0}, {(0, 1): 1}, 0.0, Vartype.SPIN)\n"
     ]
    }
   ],
   "source": [
    "import numpy as np\n",
    "import dimod\n",
    "\n",
    "J = {(0,1):1}\n",
    "\n",
    "h = {}\n",
    "model = dimod.BinaryQuadraticModel(h, J, 0.0, dimod.SPIN)\n",
    "\n",
    "print(model)\n"
   ]
  },
  {
   "cell_type": "markdown",
   "metadata": {},
   "source": [
    "Podemos resolver el modelo de forma exacta"
   ]
  },
  {
   "cell_type": "code",
   "execution_count": 3,
   "metadata": {},
   "outputs": [
    {
     "name": "stdout",
     "output_type": "stream",
     "text": [
      "   0  1 energy num_oc.\n",
      "1 +1 -1   -1.0       1\n",
      "3 -1 +1   -1.0       1\n",
      "0 -1 -1    1.0       1\n",
      "2 +1 +1    1.0       1\n",
      "['SPIN', 4 rows, 4 samples, 2 variables]\n"
     ]
    }
   ],
   "source": [
    "from dimod.reference.samplers import ExactSolver\n",
    "sampler = ExactSolver()\n",
    "solution = sampler.sample(model)\n",
    "print(solution)"
   ]
  },
  {
   "cell_type": "markdown",
   "metadata": {},
   "source": [
    "O con *simulated annealing* (un método heurístico de optimización para ordenadores clásicos)"
   ]
  },
  {
   "cell_type": "code",
   "execution_count": 4,
   "metadata": {},
   "outputs": [
    {
     "name": "stdout",
     "output_type": "stream",
     "text": [
      "   0  1 energy num_oc.\n",
      "0 +1 -1   -1.0       1\n",
      "1 -1 +1   -1.0       1\n",
      "2 +1 -1   -1.0       1\n",
      "3 -1 +1   -1.0       1\n",
      "4 +1 -1   -1.0       1\n",
      "5 -1 +1   -1.0       1\n",
      "6 +1 -1   -1.0       1\n",
      "7 +1 -1   -1.0       1\n",
      "8 -1 +1   -1.0       1\n",
      "9 -1 +1   -1.0       1\n",
      "['SPIN', 10 rows, 10 samples, 2 variables]\n"
     ]
    }
   ],
   "source": [
    "sampler = dimod.SimulatedAnnealingSampler()\n",
    "response = sampler.sample(model, num_reads=10)\n",
    "print(response)"
   ]
  },
  {
   "cell_type": "markdown",
   "metadata": {},
   "source": [
    "Y, por supuesto, con el ordenador cuántico de D-Wave (requiere registro online en https://cloud.dwavesys.com/leap/)"
   ]
  },
  {
   "cell_type": "code",
   "execution_count": 5,
   "metadata": {},
   "outputs": [
    {
     "ename": "ValueError",
     "evalue": "API token not defined",
     "output_type": "error",
     "traceback": [
      "\u001b[0;31m---------------------------------------------------------------------------\u001b[0m",
      "\u001b[0;31mValueError\u001b[0m                                Traceback (most recent call last)",
      "\u001b[0;32m<ipython-input-5-63618ec6c6e9>\u001b[0m in \u001b[0;36m<module>\u001b[0;34m\u001b[0m\n\u001b[1;32m      1\u001b[0m \u001b[0;32mfrom\u001b[0m \u001b[0mdwave\u001b[0m\u001b[0;34m.\u001b[0m\u001b[0msystem\u001b[0m\u001b[0;34m.\u001b[0m\u001b[0msamplers\u001b[0m \u001b[0;32mimport\u001b[0m \u001b[0mDWaveSampler\u001b[0m\u001b[0;34m\u001b[0m\u001b[0;34m\u001b[0m\u001b[0m\n\u001b[1;32m      2\u001b[0m \u001b[0;32mfrom\u001b[0m \u001b[0mdwave\u001b[0m\u001b[0;34m.\u001b[0m\u001b[0msystem\u001b[0m\u001b[0;34m.\u001b[0m\u001b[0mcomposites\u001b[0m \u001b[0;32mimport\u001b[0m \u001b[0mEmbeddingComposite\u001b[0m\u001b[0;34m\u001b[0m\u001b[0;34m\u001b[0m\u001b[0m\n\u001b[0;32m----> 3\u001b[0;31m \u001b[0msampler\u001b[0m \u001b[0;34m=\u001b[0m \u001b[0mEmbeddingComposite\u001b[0m\u001b[0;34m(\u001b[0m\u001b[0mDWaveSampler\u001b[0m\u001b[0;34m(\u001b[0m\u001b[0;34m)\u001b[0m\u001b[0;34m)\u001b[0m\u001b[0;34m\u001b[0m\u001b[0;34m\u001b[0m\u001b[0m\n\u001b[0m\u001b[1;32m      4\u001b[0m \u001b[0mresponse\u001b[0m \u001b[0;34m=\u001b[0m \u001b[0msampler\u001b[0m\u001b[0;34m.\u001b[0m\u001b[0msample\u001b[0m\u001b[0;34m(\u001b[0m\u001b[0mmodel\u001b[0m\u001b[0;34m,\u001b[0m \u001b[0mnum_reads\u001b[0m\u001b[0;34m=\u001b[0m\u001b[0;36m5000\u001b[0m\u001b[0;34m)\u001b[0m\u001b[0;34m\u001b[0m\u001b[0;34m\u001b[0m\u001b[0m\n\u001b[1;32m      5\u001b[0m \u001b[0mprint\u001b[0m\u001b[0;34m(\u001b[0m\u001b[0mresponse\u001b[0m\u001b[0;34m)\u001b[0m\u001b[0;34m\u001b[0m\u001b[0;34m\u001b[0m\u001b[0m\n",
      "\u001b[0;32m/opt/anaconda3/lib/python3.7/site-packages/dwave/system/samplers/dwave_sampler.py\u001b[0m in \u001b[0;36m__init__\u001b[0;34m(self, **config)\u001b[0m\n\u001b[1;32m    110\u001b[0m             \u001b[0mconfig\u001b[0m\u001b[0;34m[\u001b[0m\u001b[0;34m'solver'\u001b[0m\u001b[0;34m]\u001b[0m \u001b[0;34m=\u001b[0m \u001b[0mconfig\u001b[0m\u001b[0;34m.\u001b[0m\u001b[0mpop\u001b[0m\u001b[0;34m(\u001b[0m\u001b[0;34m'solver_features'\u001b[0m\u001b[0;34m)\u001b[0m\u001b[0;34m\u001b[0m\u001b[0;34m\u001b[0m\u001b[0m\n\u001b[1;32m    111\u001b[0m \u001b[0;34m\u001b[0m\u001b[0m\n\u001b[0;32m--> 112\u001b[0;31m         \u001b[0mself\u001b[0m\u001b[0;34m.\u001b[0m\u001b[0mclient\u001b[0m \u001b[0;34m=\u001b[0m \u001b[0mClient\u001b[0m\u001b[0;34m.\u001b[0m\u001b[0mfrom_config\u001b[0m\u001b[0;34m(\u001b[0m\u001b[0;34m**\u001b[0m\u001b[0mconfig\u001b[0m\u001b[0;34m)\u001b[0m\u001b[0;34m\u001b[0m\u001b[0;34m\u001b[0m\u001b[0m\n\u001b[0m\u001b[1;32m    113\u001b[0m         \u001b[0mself\u001b[0m\u001b[0;34m.\u001b[0m\u001b[0msolver\u001b[0m \u001b[0;34m=\u001b[0m \u001b[0mself\u001b[0m\u001b[0;34m.\u001b[0m\u001b[0mclient\u001b[0m\u001b[0;34m.\u001b[0m\u001b[0mget_solver\u001b[0m\u001b[0;34m(\u001b[0m\u001b[0;34m)\u001b[0m\u001b[0;34m\u001b[0m\u001b[0;34m\u001b[0m\u001b[0m\n\u001b[1;32m    114\u001b[0m \u001b[0;34m\u001b[0m\u001b[0m\n",
      "\u001b[0;32m/opt/anaconda3/lib/python3.7/site-packages/dwave/cloud/client.py\u001b[0m in \u001b[0;36mfrom_config\u001b[0;34m(cls, config_file, profile, client, endpoint, token, solver, proxy, legacy_config_fallback, **kwargs)\u001b[0m\n\u001b[1;32m    316\u001b[0m \u001b[0;34m\u001b[0m\u001b[0m\n\u001b[1;32m    317\u001b[0m         \u001b[0m_LOGGER\u001b[0m\u001b[0;34m.\u001b[0m\u001b[0mdebug\u001b[0m\u001b[0;34m(\u001b[0m\u001b[0;34m\"Final config used for %s.Client(): %r\"\u001b[0m\u001b[0;34m,\u001b[0m \u001b[0m_client\u001b[0m\u001b[0;34m,\u001b[0m \u001b[0mconfig\u001b[0m\u001b[0;34m)\u001b[0m\u001b[0;34m\u001b[0m\u001b[0;34m\u001b[0m\u001b[0m\n\u001b[0;32m--> 318\u001b[0;31m         \u001b[0;32mreturn\u001b[0m \u001b[0m_clients\u001b[0m\u001b[0;34m[\u001b[0m\u001b[0m_client\u001b[0m\u001b[0;34m]\u001b[0m\u001b[0;34m(\u001b[0m\u001b[0;34m**\u001b[0m\u001b[0mconfig\u001b[0m\u001b[0;34m)\u001b[0m\u001b[0;34m\u001b[0m\u001b[0;34m\u001b[0m\u001b[0m\n\u001b[0m\u001b[1;32m    319\u001b[0m \u001b[0;34m\u001b[0m\u001b[0m\n\u001b[1;32m    320\u001b[0m     def __init__(self, endpoint=None, token=None, solver=None, proxy=None,\n",
      "\u001b[0;32m/opt/anaconda3/lib/python3.7/site-packages/dwave/cloud/client.py\u001b[0m in \u001b[0;36m__init__\u001b[0;34m(self, endpoint, token, solver, proxy, permissive_ssl, request_timeout, polling_timeout, connection_close, **kwargs)\u001b[0m\n\u001b[1;32m    338\u001b[0m \u001b[0;34m\u001b[0m\u001b[0m\n\u001b[1;32m    339\u001b[0m         \u001b[0;32mif\u001b[0m \u001b[0;32mnot\u001b[0m \u001b[0mtoken\u001b[0m\u001b[0;34m:\u001b[0m\u001b[0;34m\u001b[0m\u001b[0;34m\u001b[0m\u001b[0m\n\u001b[0;32m--> 340\u001b[0;31m             \u001b[0;32mraise\u001b[0m \u001b[0mValueError\u001b[0m\u001b[0;34m(\u001b[0m\u001b[0;34m\"API token not defined\"\u001b[0m\u001b[0;34m)\u001b[0m\u001b[0;34m\u001b[0m\u001b[0;34m\u001b[0m\u001b[0m\n\u001b[0m\u001b[1;32m    341\u001b[0m \u001b[0;34m\u001b[0m\u001b[0m\n\u001b[1;32m    342\u001b[0m         _LOGGER.debug(\n",
      "\u001b[0;31mValueError\u001b[0m: API token not defined"
     ]
    }
   ],
   "source": [
    "from dwave.system.samplers import DWaveSampler\n",
    "from dwave.system.composites import EmbeddingComposite\n",
    "sampler = EmbeddingComposite(DWaveSampler())\n",
    "response = sampler.sample(model, num_reads=5000)\n",
    "print(response)"
   ]
  },
  {
   "cell_type": "markdown",
   "metadata": {
    "collapsed": true
   },
   "source": [
    "Veamos ahora un caso un poco más complicado, que se corresponde con encontrar un corte máximo en el grafo de la figura\n",
    "\n",
    "<img src=\"max-cut.png\" width=\"60%\">"
   ]
  },
  {
   "cell_type": "code",
   "execution_count": 5,
   "metadata": {
    "collapsed": true
   },
   "outputs": [],
   "source": [
    "J = {(0,1):1,(0,2):1,(1,2):1,(1,3):1,(2,4):1,(3,4):1}\n",
    "h = {}\n",
    "model = dimod.BinaryQuadraticModel(h, J, 0.0, dimod.SPIN)"
   ]
  },
  {
   "cell_type": "markdown",
   "metadata": {},
   "source": [
    "Primero lo resolvemos de forma exacta"
   ]
  },
  {
   "cell_type": "code",
   "execution_count": 6,
   "metadata": {},
   "outputs": [
    {
     "name": "stdout",
     "output_type": "stream",
     "text": [
      "     0   1   2   3   4  energy  num_occ.\n",
      "0   +1  +1  -1  -1  +1    -4.0         1\n",
      "1   -1  +1  -1  -1  +1    -4.0         1\n",
      "2   -1  -1  +1  +1  -1    -4.0         1\n",
      "3   +1  -1  +1  +1  -1    -4.0         1\n",
      "4   -1  +1  +1  +1  -1    -2.0         1\n",
      "5   -1  +1  +1  -1  -1    -2.0         1\n",
      "6   -1  +1  +1  -1  +1    -2.0         1\n",
      "7   +1  -1  -1  +1  +1    -2.0         1\n",
      "8   +1  -1  -1  -1  +1    -2.0         1\n",
      "9   +1  -1  -1  +1  -1    -2.0         1\n",
      "10  -1  -1  +1  -1  +1     0.0         1\n",
      "11  +1  -1  +1  -1  +1     0.0         1\n",
      "12  -1  +1  -1  +1  +1     0.0         1\n",
      "13  +1  +1  -1  +1  +1     0.0         1\n",
      "14  -1  -1  +1  +1  +1     0.0         1\n",
      "15  -1  +1  -1  +1  -1     0.0         1\n",
      "16  +1  -1  +1  +1  +1     0.0         1\n",
      "17  -1  -1  +1  -1  -1     0.0         1\n",
      "18  +1  -1  +1  -1  -1     0.0         1\n",
      "19  -1  +1  -1  -1  -1     0.0         1\n",
      "20  +1  +1  -1  -1  -1     0.0         1\n",
      "21  +1  +1  -1  +1  -1     0.0         1\n",
      "22  +1  +1  +1  -1  +1     2.0         1\n",
      "23  -1  -1  -1  +1  -1     2.0         1\n",
      "24  -1  -1  -1  -1  +1     2.0         1\n",
      "25  -1  +1  +1  +1  +1     2.0         1\n",
      "26  -1  -1  -1  +1  +1     2.0         1\n",
      "27  +1  +1  +1  +1  -1     2.0         1\n",
      "28  +1  +1  +1  -1  -1     2.0         1\n",
      "29  +1  -1  -1  -1  -1     2.0         1\n",
      "30  +1  +1  +1  +1  +1     6.0         1\n",
      "31  -1  -1  -1  -1  -1     6.0         1\n",
      "\n",
      "[ 32 rows, 5 variables ]\n"
     ]
    }
   ],
   "source": [
    "sampler = ExactSolver()\n",
    "solution = sampler.sample(model)\n",
    "print(solution)"
   ]
  },
  {
   "cell_type": "markdown",
   "metadata": {},
   "source": [
    "Ahora, con *simulated annealing*"
   ]
  },
  {
   "cell_type": "code",
   "execution_count": 7,
   "metadata": {},
   "outputs": [
    {
     "name": "stdout",
     "output_type": "stream",
     "text": [
      "    0   1   2   3   4  energy  num_occ.\n",
      "0  +1  +1  -1  -1  +1    -4.0         1\n",
      "1  +1  -1  +1  +1  -1    -4.0         1\n",
      "2  -1  +1  -1  -1  +1    -4.0         1\n",
      "3  -1  +1  -1  -1  +1    -4.0         1\n",
      "4  +1  -1  +1  +1  -1    -4.0         1\n",
      "5  -1  +1  -1  -1  +1    -4.0         1\n",
      "6  +1  +1  -1  -1  +1    -4.0         1\n",
      "7  -1  +1  -1  -1  +1    -4.0         1\n",
      "8  -1  -1  +1  +1  -1    -4.0         1\n",
      "9  +1  -1  +1  +1  -1    -4.0         1\n",
      "\n",
      "[ 10 rows, 5 variables ]\n"
     ]
    }
   ],
   "source": [
    "sampler = dimod.SimulatedAnnealingSampler()\n",
    "response = sampler.sample(model, num_reads=10)\n",
    "print(response)"
   ]
  },
  {
   "cell_type": "markdown",
   "metadata": {},
   "source": [
    "Finalmente, lo resolvemos nuevamente con el *quantum annealer*"
   ]
  },
  {
   "cell_type": "code",
   "execution_count": 8,
   "metadata": {},
   "outputs": [
    {
     "name": "stdout",
     "output_type": "stream",
     "text": [
      "    0   1   2   3   4  energy  num_occ.  chain_b.\n",
      "0  +1  -1  +1  +1  -1    -4.0       819       0.0\n",
      "1  -1  +1  -1  -1  +1    -4.0      1270       0.0\n",
      "2  -1  -1  +1  +1  -1    -4.0       956       0.0\n",
      "3  +1  +1  -1  -1  +1    -4.0      1950       0.0\n",
      "4  +1  +1  -1  -1  +1    -4.0         1       0.2\n",
      "5  +1  -1  -1  +1  -1    -2.0         1       0.0\n",
      "6  -1  +1  +1  -1  +1    -2.0         1       0.0\n",
      "7  -1  +1  +1  -1  -1    -2.0         2       0.0\n",
      "\n",
      "[ 8 rows, 5 variables ]\n"
     ]
    }
   ],
   "source": [
    "sampler = EmbeddingComposite(DWaveSampler())\n",
    "response = sampler.sample(model, num_reads=5000)\n",
    "print(response)"
   ]
  }
 ],
 "metadata": {
  "kernelspec": {
   "display_name": "Python 3",
   "language": "python",
   "name": "python3"
  },
  "language_info": {
   "codemirror_mode": {
    "name": "ipython",
    "version": 3
   },
   "file_extension": ".py",
   "mimetype": "text/x-python",
   "name": "python",
   "nbconvert_exporter": "python",
   "pygments_lexer": "ipython3",
   "version": "3.7.1"
  }
 },
 "nbformat": 4,
 "nbformat_minor": 2
}
