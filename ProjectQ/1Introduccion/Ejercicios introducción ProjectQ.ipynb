{
 "cells": [
  {
   "cell_type": "markdown",
   "metadata": {},
   "source": [
    "## Ejercicios de introducción a ProjectQ\n",
    "\n",
    "1) Escribe una función de nombre hello_entangled_world que reciba un *engine* y devuelva el estado de los qubits después de ejecutar el circuito de la figura.\n",
    "\n",
    "<img src=\"bell.png\" width=50%>"
   ]
  },
  {
   "cell_type": "code",
   "execution_count": 1,
   "metadata": {},
   "outputs": [],
   "source": [
    "from projectq.ops import Measure, H, CNOT, All\n",
    "\n",
    "def hello_entangled_world(eng):\n",
    "    q = eng.allocate_qureg(2)\n",
    "    \n",
    "    H | q[0]\n",
    "    \n",
    "    CNOT | (q[0], q[1])\n",
    "    \n",
    "    return (q)"
   ]
  },
  {
   "cell_type": "markdown",
   "metadata": {},
   "source": [
    "2) Usando el simulador, ejecuta el circuito 1000 veces y calcula la frecuencia de cada una de las cuatro posibles salidas. "
   ]
  },
  {
   "cell_type": "code",
   "execution_count": 2,
   "metadata": {},
   "outputs": [
    {
     "name": "stdout",
     "output_type": "stream",
     "text": [
      "0:484\n",
      "1:0\n",
      "10:0\n",
      "11:516\n"
     ]
    }
   ],
   "source": [
    "import projectq\n",
    "\n",
    "results = {0:0, 1:0, 10:0, 11:0}\n",
    "\n",
    "eng = projectq.MainEngine()\n",
    "\n",
    "for i in range(0, 1000):\n",
    "    q = hello_entangled_world(eng)\n",
    "    \n",
    "    All(Measure) | q\n",
    "    \n",
    "    results[10*int(q[0]) + int(q[1])] += 1\n",
    "    \n",
    "for key in results:\n",
    "    print(f\"{key}:{results[key]}\")\n"
   ]
  },
  {
   "cell_type": "markdown",
   "metadata": {},
   "source": [
    "3) Repite el cálculo de frecuencias, pero esta vez en el ordenador de la IBM Quantum Experience "
   ]
  },
  {
   "cell_type": "code",
   "execution_count": 3,
   "metadata": {},
   "outputs": [
    {
     "name": "stdout",
     "output_type": "stream",
     "text": [
      "- Authenticating...\n",
      "IBM QE user (e-mail) > messcoderewe@gmail.com\n",
      "IBM QE password > ········\n",
      "- Running code: \n",
      "include \"qelib1.inc\";\n",
      "qreg q[2];\n",
      "creg c[2];\n",
      "h q[1];\n",
      "cx q[1], q[0];\n",
      "- There was an error running your code:\n",
      "400 Client Error: Bad Request for url: https://quantumexperience.ng.bluemix.net/api/Jobs?access_token=JbXVRMhkDGzhFBe6lYReJhBucbRpKFVgHeHIN2JBSdi5cYrP8MtYyXQ8TtkTsjUj&deviceRunType=ibmqx4&fromCache=false&shots=1024\n"
     ]
    },
    {
     "ename": "Exception",
     "evalue": "Failed to run the circuit. Aborting.\n raised in:\n'  File \"C:\\\\Users\\\\pytho\\\\AppData\\\\Roaming\\\\Python\\\\Python37\\\\site-packages\\\\projectq\\\\backends\\\\_ibm\\\\_ibm.py\", line 309, in _run'\n'    raise Exception(\"Failed to run the circuit. Aborting.\")'",
     "output_type": "error",
     "traceback": [
      "\u001b[1;31m---------------------------------------------------------------------------\u001b[0m",
      "\u001b[1;31mException\u001b[0m                                 Traceback (most recent call last)",
      "\u001b[1;32m<ipython-input-3-402164c4e40f>\u001b[0m in \u001b[0;36m<module>\u001b[1;34m\u001b[0m\n\u001b[0;32m      8\u001b[0m \u001b[0mhello_entangled_world\u001b[0m\u001b[1;33m(\u001b[0m\u001b[0meng\u001b[0m\u001b[1;33m)\u001b[0m\u001b[1;33m\u001b[0m\u001b[1;33m\u001b[0m\u001b[0m\n\u001b[0;32m      9\u001b[0m \u001b[1;33m\u001b[0m\u001b[0m\n\u001b[1;32m---> 10\u001b[1;33m \u001b[0meng\u001b[0m\u001b[1;33m.\u001b[0m\u001b[0mflush\u001b[0m\u001b[1;33m(\u001b[0m\u001b[1;33m)\u001b[0m\u001b[1;33m\u001b[0m\u001b[1;33m\u001b[0m\u001b[0m\n\u001b[0m",
      "\u001b[1;32m~\\AppData\\Roaming\\Python\\Python37\\site-packages\\projectq\\cengines\\_main.py\u001b[0m in \u001b[0;36mflush\u001b[1;34m(self, deallocate_qubits)\u001b[0m\n\u001b[0;32m    302\u001b[0m                 \u001b[0mqb\u001b[0m \u001b[1;33m=\u001b[0m \u001b[0mself\u001b[0m\u001b[1;33m.\u001b[0m\u001b[0mactive_qubits\u001b[0m\u001b[1;33m.\u001b[0m\u001b[0mpop\u001b[0m\u001b[1;33m(\u001b[0m\u001b[1;33m)\u001b[0m\u001b[1;33m\u001b[0m\u001b[1;33m\u001b[0m\u001b[0m\n\u001b[0;32m    303\u001b[0m                 \u001b[0mqb\u001b[0m\u001b[1;33m.\u001b[0m\u001b[0m__del__\u001b[0m\u001b[1;33m(\u001b[0m\u001b[1;33m)\u001b[0m\u001b[1;33m\u001b[0m\u001b[1;33m\u001b[0m\u001b[0m\n\u001b[1;32m--> 304\u001b[1;33m         \u001b[0mself\u001b[0m\u001b[1;33m.\u001b[0m\u001b[0mreceive\u001b[0m\u001b[1;33m(\u001b[0m\u001b[1;33m[\u001b[0m\u001b[0mCommand\u001b[0m\u001b[1;33m(\u001b[0m\u001b[0mself\u001b[0m\u001b[1;33m,\u001b[0m \u001b[0mFlushGate\u001b[0m\u001b[1;33m(\u001b[0m\u001b[1;33m)\u001b[0m\u001b[1;33m,\u001b[0m \u001b[1;33m(\u001b[0m\u001b[1;33m[\u001b[0m\u001b[0mWeakQubitRef\u001b[0m\u001b[1;33m(\u001b[0m\u001b[0mself\u001b[0m\u001b[1;33m,\u001b[0m \u001b[1;33m-\u001b[0m\u001b[1;36m1\u001b[0m\u001b[1;33m)\u001b[0m\u001b[1;33m]\u001b[0m\u001b[1;33m,\u001b[0m\u001b[1;33m)\u001b[0m\u001b[1;33m)\u001b[0m\u001b[1;33m]\u001b[0m\u001b[1;33m)\u001b[0m\u001b[1;33m\u001b[0m\u001b[1;33m\u001b[0m\u001b[0m\n\u001b[0m",
      "\u001b[1;32m~\\AppData\\Roaming\\Python\\Python37\\site-packages\\projectq\\cengines\\_main.py\u001b[0m in \u001b[0;36mreceive\u001b[1;34m(self, command_list)\u001b[0m\n\u001b[0;32m    264\u001b[0m                 then send on)\n\u001b[0;32m    265\u001b[0m         \"\"\"\n\u001b[1;32m--> 266\u001b[1;33m         \u001b[0mself\u001b[0m\u001b[1;33m.\u001b[0m\u001b[0msend\u001b[0m\u001b[1;33m(\u001b[0m\u001b[0mcommand_list\u001b[0m\u001b[1;33m)\u001b[0m\u001b[1;33m\u001b[0m\u001b[1;33m\u001b[0m\u001b[0m\n\u001b[0m\u001b[0;32m    267\u001b[0m \u001b[1;33m\u001b[0m\u001b[0m\n\u001b[0;32m    268\u001b[0m     \u001b[1;32mdef\u001b[0m \u001b[0msend\u001b[0m\u001b[1;33m(\u001b[0m\u001b[0mself\u001b[0m\u001b[1;33m,\u001b[0m \u001b[0mcommand_list\u001b[0m\u001b[1;33m)\u001b[0m\u001b[1;33m:\u001b[0m\u001b[1;33m\u001b[0m\u001b[1;33m\u001b[0m\u001b[0m\n",
      "\u001b[1;32m~\\AppData\\Roaming\\Python\\Python37\\site-packages\\projectq\\cengines\\_main.py\u001b[0m in \u001b[0;36msend\u001b[1;34m(self, command_list)\u001b[0m\n\u001b[0;32m    286\u001b[0m                                              \"\\n\" + repr(last_line[-2]))\n\u001b[0;32m    287\u001b[0m                 \u001b[0mcompact_exception\u001b[0m\u001b[1;33m.\u001b[0m\u001b[0m__cause__\u001b[0m \u001b[1;33m=\u001b[0m \u001b[1;32mNone\u001b[0m\u001b[1;33m\u001b[0m\u001b[1;33m\u001b[0m\u001b[0m\n\u001b[1;32m--> 288\u001b[1;33m                 \u001b[1;32mraise\u001b[0m \u001b[0mcompact_exception\u001b[0m  \u001b[1;31m# use verbose=True for more info\u001b[0m\u001b[1;33m\u001b[0m\u001b[1;33m\u001b[0m\u001b[0m\n\u001b[0m\u001b[0;32m    289\u001b[0m \u001b[1;33m\u001b[0m\u001b[0m\n\u001b[0;32m    290\u001b[0m     \u001b[1;32mdef\u001b[0m \u001b[0mflush\u001b[0m\u001b[1;33m(\u001b[0m\u001b[0mself\u001b[0m\u001b[1;33m,\u001b[0m \u001b[0mdeallocate_qubits\u001b[0m\u001b[1;33m=\u001b[0m\u001b[1;32mFalse\u001b[0m\u001b[1;33m)\u001b[0m\u001b[1;33m:\u001b[0m\u001b[1;33m\u001b[0m\u001b[1;33m\u001b[0m\u001b[0m\n",
      "\u001b[1;31mException\u001b[0m: Failed to run the circuit. Aborting.\n raised in:\n'  File \"C:\\\\Users\\\\pytho\\\\AppData\\\\Roaming\\\\Python\\\\Python37\\\\site-packages\\\\projectq\\\\backends\\\\_ibm\\\\_ibm.py\", line 309, in _run'\n'    raise Exception(\"Failed to run the circuit. Aborting.\")'"
     ]
    }
   ],
   "source": [
    "import projectq.setups.ibm\n",
    "from projectq.backends import IBMBackend\n",
    "\n",
    "eng = projectq.MainEngine(IBMBackend(use_hardware=True, num_runs=1024,verbose=True,\n",
    "                                     device='ibmqx4', num_retries=30),\n",
    "                          engine_list=projectq.setups.ibm.get_engine_list())\n",
    "\n",
    "hello_entangled_world(eng)\n",
    "\n",
    "eng.flush()"
   ]
  },
  {
   "cell_type": "markdown",
   "metadata": {},
   "source": [
    "4) Accediendo directamente a la función de onda, calcula las amplitudes y las probabilidades de cada uno de los estados de la base computacional."
   ]
  },
  {
   "cell_type": "code",
   "execution_count": 4,
   "metadata": {},
   "outputs": [
    {
     "name": "stdout",
     "output_type": "stream",
     "text": [
      "00 amplitude: (0.7071067811865475+0j), probability: 0.4999999999999999\n",
      "01 amplitude: 0j, probability: 0.0\n",
      "10 amplitude: 0j, probability: 0.0\n",
      "11 amplitude: (0.7071067811865475+0j), probability: 0.4999999999999999\n"
     ]
    }
   ],
   "source": [
    "eng = projectq.MainEngine()\n",
    "\n",
    "q = hello_entangled_world(eng)\n",
    "\n",
    "eng.flush()\n",
    "\n",
    "def printWave(eng, val, q):\n",
    "    print(f\"{val} amplitude: {eng.backend.get_amplitude(val, q)}, probability: {eng.backend.get_probability(val, q)}\")\n",
    "    \n",
    "for val in ['00','01','10','11']:\n",
    "    printWave(eng, val, q)\n",
    "        "
   ]
  },
  {
   "cell_type": "markdown",
   "metadata": {},
   "source": [
    "5) ¿Crees que podrías diseñar un circuito que entrelazara 3 qubits de forma que su estado fuera $\\frac{1}{\\sqrt{2}}(|000\\rangle+|111\\rangle)$? "
   ]
  },
  {
   "cell_type": "code",
   "execution_count": 6,
   "metadata": {},
   "outputs": [
    {
     "name": "stdout",
     "output_type": "stream",
     "text": [
      "000 amplitude: (0.7071067811865475+0j), probability: 0.4999999999999999\n",
      "001 amplitude: 0j, probability: 0.0\n",
      "010 amplitude: 0j, probability: 0.0\n",
      "011 amplitude: 0j, probability: 0.0\n",
      "100 amplitude: 0j, probability: 0.0\n",
      "101 amplitude: 0j, probability: 0.0\n",
      "110 amplitude: 0j, probability: 0.0\n",
      "111 amplitude: (0.7071067811865475+0j), probability: 0.4999999999999999\n"
     ]
    }
   ],
   "source": [
    "def entangle_3(eng):\n",
    "    q = eng.allocate_qureg(3)\n",
    "    \n",
    "    H | q[0]\n",
    "    \n",
    "    CNOT | (q[0], q[1])\n",
    "    CNOT | (q[1], q[2])\n",
    "    \n",
    "    return q\n",
    "\n",
    "eng = projectq.MainEngine()\n",
    "\n",
    "q = entangle_3(eng)\n",
    "eng.flush()\n",
    "\n",
    "for val in ['000', '001', '010', '011', '100', '101', '110', '111']:\n",
    "    printWave(eng, val, q)\n",
    "    \n",
    "All(Measure) | q\n"
   ]
  },
  {
   "cell_type": "markdown",
   "metadata": {},
   "source": [
    "6) Comprueba la siguiente equivalencia de puertas $$ Z = H X H$$\n",
    "\n",
    "Para ello, ten en cuenta que es necesario y suficiente comprobar que dan el mismo resultado (obtienen el mismo estado, no sólo las mismas probabilidades) para los valores iniciales del qubit $|0\\rangle$ y $|1\\rangle$."
   ]
  },
  {
   "cell_type": "code",
   "execution_count": 7,
   "metadata": {},
   "outputs": [
    {
     "name": "stdout",
     "output_type": "stream",
     "text": [
      "Testing function: apply_z\n",
      "0 amplitude: (1+0j), probability: 1.0\n",
      "1 amplitude: 0j, probability: 0.0\n",
      "Testing function: apply_hxh\n",
      "0 amplitude: (0.9999999999999998+0j), probability: 0.9999999999999996\n",
      "1 amplitude: 0j, probability: 0.0\n"
     ]
    }
   ],
   "source": [
    "from projectq.ops import Z, H, X, All\n",
    "from itertools import product\n",
    "\n",
    "def apply_z(eng, q):\n",
    "    Z | q\n",
    "    \n",
    "def apply_hxh(eng, q):\n",
    "    H | q\n",
    "    X | q\n",
    "    H | q\n",
    "    \n",
    "def test(func, numqubit = 1):\n",
    "    \n",
    "    print(\"Testing function: \" + func.__name__)\n",
    "    \n",
    "    eng = projectq.MainEngine()\n",
    "    q = eng.allocate_qureg(numqubit)\n",
    "    \n",
    "    func(eng, q)\n",
    "    eng.flush()\n",
    "    \n",
    "    bin_values = ['0', '1']\n",
    "    for val_list in product(bin_values, repeat=numqubit):\n",
    "        val = ''.join(val_list)\n",
    "        printWave(eng, val, q)\n",
    "        \n",
    "    All(Measure) | q\n",
    "    \n",
    "for f in [apply_z, apply_hxh]:\n",
    "    \n",
    "    test(f)\n"
   ]
  },
  {
   "cell_type": "markdown",
   "metadata": {},
   "source": [
    "7) Comprueba también la siguiente equivalencia de puertas $$S^\\dagger = S S S$$"
   ]
  },
  {
   "cell_type": "code",
   "execution_count": 8,
   "metadata": {},
   "outputs": [
    {
     "name": "stdout",
     "output_type": "stream",
     "text": [
      "Testing function: inverse_S\n",
      "0 amplitude: (1+0j), probability: 1.0\n",
      "1 amplitude: 0j, probability: 0.0\n",
      "Testing function: triple_S\n",
      "0 amplitude: (1+0j), probability: 1.0\n",
      "1 amplitude: 0j, probability: 0.0\n"
     ]
    }
   ],
   "source": [
    "from projectq.ops import S, DaggeredGate\n",
    "\n",
    "def inverse_S(eng, q):\n",
    "    DaggeredGate(S) | q\n",
    "    \n",
    "def triple_S(eng, q):\n",
    "    S | q\n",
    "    S | q\n",
    "    S | q\n",
    "    \n",
    "for f in [inverse_S, triple_S]:\n",
    "    test(f)\n",
    "    "
   ]
  },
  {
   "cell_type": "markdown",
   "metadata": {},
   "source": [
    "8) ¿Qué función calcula el circuito de la figura? Ten en cuenta que ahora hay cuatro posibles valores iniciales para los qubits: $|00\\rangle,|01\\rangle,|10\\rangle$ y $|11\\rangle$.\n",
    "\n",
    "<img src=\"circuito8.png\" width=50%>"
   ]
  },
  {
   "cell_type": "code",
   "execution_count": 9,
   "metadata": {},
   "outputs": [
    {
     "name": "stdout",
     "output_type": "stream",
     "text": [
      "Testing function: fm_00\n",
      "00 amplitude: (1+0j), probability: 1.0\n",
      "01 amplitude: 0j, probability: 0.0\n",
      "10 amplitude: 0j, probability: 0.0\n",
      "11 amplitude: 0j, probability: 0.0\n",
      "Testing function: fm_01\n",
      "00 amplitude: 0j, probability: 0.0\n",
      "01 amplitude: 0j, probability: 0.0\n",
      "10 amplitude: (1+0j), probability: 1.0\n",
      "11 amplitude: 0j, probability: 0.0\n",
      "Testing function: fm_10\n",
      "00 amplitude: 0j, probability: 0.0\n",
      "01 amplitude: (1+0j), probability: 1.0\n",
      "10 amplitude: 0j, probability: 0.0\n",
      "11 amplitude: 0j, probability: 0.0\n",
      "Testing function: fm_11\n",
      "00 amplitude: 0j, probability: 0.0\n",
      "01 amplitude: 0j, probability: 0.0\n",
      "10 amplitude: 0j, probability: 0.0\n",
      "11 amplitude: (1+0j), probability: 1.0\n"
     ]
    }
   ],
   "source": [
    "# q[0] se mide al inicio, si resulta en 1 medirá q[1] y aplicará un NOT sobre él.\n",
    "# si q[0] mide 0, q[1] será medido a continuación y de medir 1 aplicará un NOT sobre q[0].\n",
    "#\n",
    "# Inicial: |00> Se estabilizarán como tal.\n",
    "# Inicial: |01> Se aplicará un NOT |10>\n",
    "# Inicial: |10> Se aplicará un NOT |01>\n",
    "# Inicial: |11> Se estabilizarán como tal.\n",
    "#\n",
    "# Esta puerta reordena los qubits, es la puerta Swap\n",
    "\n",
    "from projectq.ops import CNOT, X\n",
    "\n",
    "def func_misteriosa(eng, q):\n",
    "    CNOT | (q[0], q[1])\n",
    "    CNOT | (q[1], q[0])\n",
    "    CNOT | (q[0], q[1])\n",
    "    \n",
    "def fm_00(eng, q):\n",
    "    func_misteriosa(eng, q)\n",
    "    \n",
    "def fm_01(eng, q):\n",
    "    X | q[1]\n",
    "    func_misteriosa(eng, q)\n",
    "    \n",
    "def fm_10(eng, q):\n",
    "    X | q[0]\n",
    "    func_misteriosa(eng, q)\n",
    "    \n",
    "def fm_11(eng, q):\n",
    "    X | q[0]\n",
    "    X | q[1]\n",
    "    func_misteriosa(eng, q)\n",
    "    \n",
    "for f in [fm_00, fm_01, fm_10, fm_11]:\n",
    "    test(f, 2)\n",
    "    "
   ]
  },
  {
   "cell_type": "markdown",
   "metadata": {},
   "source": [
    "9) Determina qué función es calculada por el circuito de la figura. De nuevo, hay cuatro posibles valores iniciales para los qubits.\n",
    "\n",
    "<img src=\"circuito9.png\" width=50%>"
   ]
  },
  {
   "cell_type": "code",
   "execution_count": 10,
   "metadata": {},
   "outputs": [
    {
     "name": "stdout",
     "output_type": "stream",
     "text": [
      "Testing function: c_00\n",
      "00 amplitude: (0.9999999999999997+0j), probability: 0.9999999999999993\n",
      "01 amplitude: 0j, probability: 0.0\n",
      "10 amplitude: 0j, probability: 0.0\n",
      "11 amplitude: 0j, probability: 0.0\n",
      "Testing function: c_01\n",
      "00 amplitude: 0j, probability: 0.0\n",
      "01 amplitude: (0.9999999999999997+0j), probability: 0.9999999999999993\n",
      "10 amplitude: 0j, probability: 0.0\n",
      "11 amplitude: 0j, probability: 0.0\n",
      "Testing function: c_10\n",
      "00 amplitude: 0j, probability: 0.0\n",
      "01 amplitude: 0j, probability: 0.0\n",
      "10 amplitude: 0j, probability: 0.0\n",
      "11 amplitude: (0.9999999999999997+0j), probability: 0.9999999999999993\n",
      "Testing function: c_11\n",
      "00 amplitude: 0j, probability: 0.0\n",
      "01 amplitude: 0j, probability: 0.0\n",
      "10 amplitude: (0.9999999999999997+0j), probability: 0.9999999999999993\n",
      "11 amplitude: 0j, probability: 0.0\n"
     ]
    }
   ],
   "source": [
    "# Primero se causa una superposición independiente en ambos qubits.\n",
    "# Después se mide q[1], invirtiendo q[0] si es 1.\n",
    "# A continuación se deshace la superposición inicial.\n",
    "#\n",
    "# El resultado es simplemente negar el primer qubit en función del \n",
    "# segundo.\n",
    "\n",
    "from projectq.ops import CNOT, H\n",
    "\n",
    "def circuito(eng, q):\n",
    "    H | q[0]\n",
    "    H | q[1]\n",
    "    CNOT | (q[1], q[0])\n",
    "    H | q[0]\n",
    "    H | q[1]\n",
    "    \n",
    "def c_00(eng, q):\n",
    "    circuito(eng, q)\n",
    "    \n",
    "def c_01(eng, q):\n",
    "    X | q[1]\n",
    "    circuito(eng, q)\n",
    "    \n",
    "def c_10(eng, q):\n",
    "    X | q[0]\n",
    "    circuito(eng, q)\n",
    "    \n",
    "def c_11(eng, q):\n",
    "    X | q[0]\n",
    "    X | q[1]\n",
    "    circuito(eng, q)\n",
    "    \n",
    "for f in [c_00, c_01, c_10, c_11]:\n",
    "    test(f, 2)"
   ]
  },
  {
   "cell_type": "markdown",
   "metadata": {},
   "source": [
    "10) Comprueba que el circuito de la figura es equivalente a una puerta de Toffoli (ahora el número de posibles valores inciales que debes comprobar es 8, porque hay tres qubits). \n",
    "\n",
    "<img src=\"toffoli.png\" width=80%>"
   ]
  },
  {
   "cell_type": "code",
   "execution_count": 11,
   "metadata": {},
   "outputs": [
    {
     "name": "stdout",
     "output_type": "stream",
     "text": [
      "Params: ('0', '0', '0')\n",
      "Testing function: alt_toffoli\n",
      "000 amplitude: (1+0j), probability: 1.0\n",
      "001 amplitude: 0j, probability: 0.0\n",
      "010 amplitude: 0j, probability: 0.0\n",
      "011 amplitude: 0j, probability: 0.0\n",
      "100 amplitude: (-2.220446049250313e-16+0j), probability: 4.930380657631324e-32\n",
      "101 amplitude: 0j, probability: 0.0\n",
      "110 amplitude: 0j, probability: 0.0\n",
      "111 amplitude: 0j, probability: 0.0\n",
      "Testing function: toffoli\n",
      "000 amplitude: (1+0j), probability: 1.0\n",
      "001 amplitude: 0j, probability: 0.0\n",
      "010 amplitude: 0j, probability: 0.0\n",
      "011 amplitude: 0j, probability: 0.0\n",
      "100 amplitude: 0j, probability: 0.0\n",
      "101 amplitude: 0j, probability: 0.0\n",
      "110 amplitude: 0j, probability: 0.0\n",
      "111 amplitude: 0j, probability: 0.0\n",
      "Params: ('0', '0', '1')\n",
      "Testing function: alt_toffoli\n",
      "000 amplitude: (1+0j), probability: 1.0\n",
      "001 amplitude: 0j, probability: 0.0\n",
      "010 amplitude: 0j, probability: 0.0\n",
      "011 amplitude: 0j, probability: 0.0\n",
      "100 amplitude: (-2.220446049250313e-16+0j), probability: 4.930380657631324e-32\n",
      "101 amplitude: 0j, probability: 0.0\n",
      "110 amplitude: 0j, probability: 0.0\n",
      "111 amplitude: 0j, probability: 0.0\n",
      "Testing function: toffoli\n",
      "000 amplitude: (1+0j), probability: 1.0\n",
      "001 amplitude: 0j, probability: 0.0\n",
      "010 amplitude: 0j, probability: 0.0\n",
      "011 amplitude: 0j, probability: 0.0\n",
      "100 amplitude: 0j, probability: 0.0\n",
      "101 amplitude: 0j, probability: 0.0\n",
      "110 amplitude: 0j, probability: 0.0\n",
      "111 amplitude: 0j, probability: 0.0\n",
      "Params: ('0', '1', '0')\n",
      "Testing function: alt_toffoli\n",
      "000 amplitude: (1+0j), probability: 1.0\n",
      "001 amplitude: 0j, probability: 0.0\n",
      "010 amplitude: 0j, probability: 0.0\n",
      "011 amplitude: 0j, probability: 0.0\n",
      "100 amplitude: (-2.220446049250313e-16+0j), probability: 4.930380657631324e-32\n",
      "101 amplitude: 0j, probability: 0.0\n",
      "110 amplitude: 0j, probability: 0.0\n",
      "111 amplitude: 0j, probability: 0.0\n",
      "Testing function: toffoli\n",
      "000 amplitude: (1+0j), probability: 1.0\n",
      "001 amplitude: 0j, probability: 0.0\n",
      "010 amplitude: 0j, probability: 0.0\n",
      "011 amplitude: 0j, probability: 0.0\n",
      "100 amplitude: 0j, probability: 0.0\n",
      "101 amplitude: 0j, probability: 0.0\n",
      "110 amplitude: 0j, probability: 0.0\n",
      "111 amplitude: 0j, probability: 0.0\n",
      "Params: ('0', '1', '1')\n",
      "Testing function: alt_toffoli\n",
      "000 amplitude: (1+0j), probability: 1.0\n",
      "001 amplitude: 0j, probability: 0.0\n",
      "010 amplitude: 0j, probability: 0.0\n",
      "011 amplitude: 0j, probability: 0.0\n",
      "100 amplitude: (-2.220446049250313e-16+0j), probability: 4.930380657631324e-32\n",
      "101 amplitude: 0j, probability: 0.0\n",
      "110 amplitude: 0j, probability: 0.0\n",
      "111 amplitude: 0j, probability: 0.0\n",
      "Testing function: toffoli\n",
      "000 amplitude: (1+0j), probability: 1.0\n",
      "001 amplitude: 0j, probability: 0.0\n",
      "010 amplitude: 0j, probability: 0.0\n",
      "011 amplitude: 0j, probability: 0.0\n",
      "100 amplitude: 0j, probability: 0.0\n",
      "101 amplitude: 0j, probability: 0.0\n",
      "110 amplitude: 0j, probability: 0.0\n",
      "111 amplitude: 0j, probability: 0.0\n",
      "Params: ('1', '0', '0')\n",
      "Testing function: alt_toffoli\n",
      "000 amplitude: (1+0j), probability: 1.0\n",
      "001 amplitude: 0j, probability: 0.0\n",
      "010 amplitude: 0j, probability: 0.0\n",
      "011 amplitude: 0j, probability: 0.0\n",
      "100 amplitude: (-2.220446049250313e-16+0j), probability: 4.930380657631324e-32\n",
      "101 amplitude: 0j, probability: 0.0\n",
      "110 amplitude: 0j, probability: 0.0\n",
      "111 amplitude: 0j, probability: 0.0\n",
      "Testing function: toffoli\n",
      "000 amplitude: (1+0j), probability: 1.0\n",
      "001 amplitude: 0j, probability: 0.0\n",
      "010 amplitude: 0j, probability: 0.0\n",
      "011 amplitude: 0j, probability: 0.0\n",
      "100 amplitude: 0j, probability: 0.0\n",
      "101 amplitude: 0j, probability: 0.0\n",
      "110 amplitude: 0j, probability: 0.0\n",
      "111 amplitude: 0j, probability: 0.0\n",
      "Params: ('1', '0', '1')\n",
      "Testing function: alt_toffoli\n",
      "000 amplitude: (1+0j), probability: 1.0\n",
      "001 amplitude: 0j, probability: 0.0\n",
      "010 amplitude: 0j, probability: 0.0\n",
      "011 amplitude: 0j, probability: 0.0\n",
      "100 amplitude: (-2.220446049250313e-16+0j), probability: 4.930380657631324e-32\n",
      "101 amplitude: 0j, probability: 0.0\n",
      "110 amplitude: 0j, probability: 0.0\n",
      "111 amplitude: 0j, probability: 0.0\n",
      "Testing function: toffoli\n",
      "000 amplitude: (1+0j), probability: 1.0\n",
      "001 amplitude: 0j, probability: 0.0\n",
      "010 amplitude: 0j, probability: 0.0\n",
      "011 amplitude: 0j, probability: 0.0\n",
      "100 amplitude: 0j, probability: 0.0\n",
      "101 amplitude: 0j, probability: 0.0\n",
      "110 amplitude: 0j, probability: 0.0\n",
      "111 amplitude: 0j, probability: 0.0\n",
      "Params: ('1', '1', '0')\n",
      "Testing function: alt_toffoli\n",
      "000 amplitude: (1+0j), probability: 1.0\n",
      "001 amplitude: 0j, probability: 0.0\n",
      "010 amplitude: 0j, probability: 0.0\n",
      "011 amplitude: 0j, probability: 0.0\n",
      "100 amplitude: (-2.220446049250313e-16+0j), probability: 4.930380657631324e-32\n",
      "101 amplitude: 0j, probability: 0.0\n",
      "110 amplitude: 0j, probability: 0.0\n",
      "111 amplitude: 0j, probability: 0.0\n",
      "Testing function: toffoli\n",
      "000 amplitude: (1+0j), probability: 1.0\n",
      "001 amplitude: 0j, probability: 0.0\n",
      "010 amplitude: 0j, probability: 0.0\n",
      "011 amplitude: 0j, probability: 0.0\n",
      "100 amplitude: 0j, probability: 0.0\n",
      "101 amplitude: 0j, probability: 0.0\n",
      "110 amplitude: 0j, probability: 0.0\n",
      "111 amplitude: 0j, probability: 0.0\n",
      "Params: ('1', '1', '1')\n",
      "Testing function: alt_toffoli\n",
      "000 amplitude: (1+0j), probability: 1.0\n",
      "001 amplitude: 0j, probability: 0.0\n",
      "010 amplitude: 0j, probability: 0.0\n",
      "011 amplitude: 0j, probability: 0.0\n",
      "100 amplitude: (-2.220446049250313e-16+0j), probability: 4.930380657631324e-32\n",
      "101 amplitude: 0j, probability: 0.0\n",
      "110 amplitude: 0j, probability: 0.0\n",
      "111 amplitude: 0j, probability: 0.0\n",
      "Testing function: toffoli\n",
      "000 amplitude: (1+0j), probability: 1.0\n",
      "001 amplitude: 0j, probability: 0.0\n",
      "010 amplitude: 0j, probability: 0.0\n",
      "011 amplitude: 0j, probability: 0.0\n",
      "100 amplitude: 0j, probability: 0.0\n",
      "101 amplitude: 0j, probability: 0.0\n",
      "110 amplitude: 0j, probability: 0.0\n",
      "111 amplitude: 0j, probability: 0.0\n"
     ]
    }
   ],
   "source": [
    "# El circuito mostrado es aproximadamente equivalente a una\n",
    "# puerta Toffoli, aunque introduce una probabilidad de error\n",
    "# del orden 10 ^ -32\n",
    "\n",
    "from projectq.ops import H, CNOT, T, get_inverse, Toffoli\n",
    "\n",
    "def test_params(functions, numqubit):\n",
    "    \n",
    "    bin_values = ['0', '1']\n",
    "    for val_list in product(bin_values, repeat=numqubit):\n",
    "        \n",
    "        print(f\"Params: {val_list}\")\n",
    "        \n",
    "        for func in functions:\n",
    "            \n",
    "            for i, val in enumerate(val_list):\n",
    "                if (i == '1'):\n",
    "                    X | q[i]\n",
    "\n",
    "            test(func, numqubit)\n",
    "\n",
    "def alt_toffoli(eng, q):\n",
    "    Tdg = get_inverse(T)\n",
    "    \n",
    "    H | q[0]\n",
    "    CNOT | (q[1], q[0])\n",
    "    Tdg | q[0]\n",
    "    CNOT | (q[2], q[0])\n",
    "    T | q[0]\n",
    "    CNOT | (q[1], q[0])\n",
    "    Tdg | q[0]\n",
    "    CNOT | (q[2], q[0])\n",
    "    T | q[0]\n",
    "    T | q[1]\n",
    "    H | q[0]\n",
    "    CNOT | (q[2], q[1])\n",
    "    Tdg | q[1]\n",
    "    T | q[2]\n",
    "    CNOT | (q[2], q[1])\n",
    "    \n",
    "def toffoli(eng, q):\n",
    "    Toffoli | ((q[2], q[1]), q[0])\n",
    "    \n",
    "test_params([alt_toffoli, toffoli], 3)\n"
   ]
  },
  {
   "cell_type": "markdown",
   "metadata": {},
   "source": [
    "11) Crea un circuito con una sola puerta de Toffoli. Si lo lanzas a ejecutar en IBM Quantum Experience, ¿en qué puertas se transforma?"
   ]
  },
  {
   "cell_type": "code",
   "execution_count": 12,
   "metadata": {},
   "outputs": [
    {
     "name": "stdout",
     "output_type": "stream",
     "text": [
      "- Authenticating...\n",
      "IBM QE user (e-mail) > messcoderewe@gmail.com\n",
      "IBM QE password > ········\n",
      "- Running code: \n",
      "include \"qelib1.inc\";\n",
      "qreg q[3];\n",
      "creg c[3];\n",
      "h q[0];\n",
      "cx q[1], q[0];\n",
      "tdg q[0];\n",
      "cx q[2], q[0];\n",
      "t q[0];\n",
      "t q[1];\n",
      "cx q[2], q[1];\n",
      "tdg q[1];\n",
      "cx q[2], q[1];\n",
      "cx q[1], q[0];\n",
      "tdg q[0];\n",
      "cx q[2], q[0];\n",
      "t q[0];\n",
      "h q[0];\n",
      "t q[2];\n",
      "- There was an error running your code:\n",
      "400 Client Error: Bad Request for url: https://quantumexperience.ng.bluemix.net/api/Jobs?access_token=ImGqnGbiej6IF3LzIrOY9GbPYTWSruDuSOtb6BdINmKYqQgyukYmxCBFZh3PUYaP&deviceRunType=ibmqx4&fromCache=false&shots=1024\n"
     ]
    },
    {
     "ename": "Exception",
     "evalue": "Failed to run the circuit. Aborting.\n raised in:\n'  File \"C:\\\\Users\\\\pytho\\\\AppData\\\\Roaming\\\\Python\\\\Python37\\\\site-packages\\\\projectq\\\\backends\\\\_ibm\\\\_ibm.py\", line 309, in _run'\n'    raise Exception(\"Failed to run the circuit. Aborting.\")'",
     "output_type": "error",
     "traceback": [
      "\u001b[1;31m---------------------------------------------------------------------------\u001b[0m",
      "\u001b[1;31mException\u001b[0m                                 Traceback (most recent call last)",
      "\u001b[1;32m<ipython-input-12-250e9adb636e>\u001b[0m in \u001b[0;36m<module>\u001b[1;34m\u001b[0m\n\u001b[0;32m     30\u001b[0m \u001b[0mtoffoli\u001b[0m\u001b[1;33m(\u001b[0m\u001b[0meng\u001b[0m\u001b[1;33m,\u001b[0m \u001b[0mq\u001b[0m\u001b[1;33m)\u001b[0m\u001b[1;33m\u001b[0m\u001b[1;33m\u001b[0m\u001b[0m\n\u001b[0;32m     31\u001b[0m \u001b[1;33m\u001b[0m\u001b[0m\n\u001b[1;32m---> 32\u001b[1;33m \u001b[0meng\u001b[0m\u001b[1;33m.\u001b[0m\u001b[0mflush\u001b[0m\u001b[1;33m(\u001b[0m\u001b[1;33m)\u001b[0m\u001b[1;33m\u001b[0m\u001b[1;33m\u001b[0m\u001b[0m\n\u001b[0m",
      "\u001b[1;32m~\\AppData\\Roaming\\Python\\Python37\\site-packages\\projectq\\cengines\\_main.py\u001b[0m in \u001b[0;36mflush\u001b[1;34m(self, deallocate_qubits)\u001b[0m\n\u001b[0;32m    302\u001b[0m                 \u001b[0mqb\u001b[0m \u001b[1;33m=\u001b[0m \u001b[0mself\u001b[0m\u001b[1;33m.\u001b[0m\u001b[0mactive_qubits\u001b[0m\u001b[1;33m.\u001b[0m\u001b[0mpop\u001b[0m\u001b[1;33m(\u001b[0m\u001b[1;33m)\u001b[0m\u001b[1;33m\u001b[0m\u001b[1;33m\u001b[0m\u001b[0m\n\u001b[0;32m    303\u001b[0m                 \u001b[0mqb\u001b[0m\u001b[1;33m.\u001b[0m\u001b[0m__del__\u001b[0m\u001b[1;33m(\u001b[0m\u001b[1;33m)\u001b[0m\u001b[1;33m\u001b[0m\u001b[1;33m\u001b[0m\u001b[0m\n\u001b[1;32m--> 304\u001b[1;33m         \u001b[0mself\u001b[0m\u001b[1;33m.\u001b[0m\u001b[0mreceive\u001b[0m\u001b[1;33m(\u001b[0m\u001b[1;33m[\u001b[0m\u001b[0mCommand\u001b[0m\u001b[1;33m(\u001b[0m\u001b[0mself\u001b[0m\u001b[1;33m,\u001b[0m \u001b[0mFlushGate\u001b[0m\u001b[1;33m(\u001b[0m\u001b[1;33m)\u001b[0m\u001b[1;33m,\u001b[0m \u001b[1;33m(\u001b[0m\u001b[1;33m[\u001b[0m\u001b[0mWeakQubitRef\u001b[0m\u001b[1;33m(\u001b[0m\u001b[0mself\u001b[0m\u001b[1;33m,\u001b[0m \u001b[1;33m-\u001b[0m\u001b[1;36m1\u001b[0m\u001b[1;33m)\u001b[0m\u001b[1;33m]\u001b[0m\u001b[1;33m,\u001b[0m\u001b[1;33m)\u001b[0m\u001b[1;33m)\u001b[0m\u001b[1;33m]\u001b[0m\u001b[1;33m)\u001b[0m\u001b[1;33m\u001b[0m\u001b[1;33m\u001b[0m\u001b[0m\n\u001b[0m",
      "\u001b[1;32m~\\AppData\\Roaming\\Python\\Python37\\site-packages\\projectq\\cengines\\_main.py\u001b[0m in \u001b[0;36mreceive\u001b[1;34m(self, command_list)\u001b[0m\n\u001b[0;32m    264\u001b[0m                 then send on)\n\u001b[0;32m    265\u001b[0m         \"\"\"\n\u001b[1;32m--> 266\u001b[1;33m         \u001b[0mself\u001b[0m\u001b[1;33m.\u001b[0m\u001b[0msend\u001b[0m\u001b[1;33m(\u001b[0m\u001b[0mcommand_list\u001b[0m\u001b[1;33m)\u001b[0m\u001b[1;33m\u001b[0m\u001b[1;33m\u001b[0m\u001b[0m\n\u001b[0m\u001b[0;32m    267\u001b[0m \u001b[1;33m\u001b[0m\u001b[0m\n\u001b[0;32m    268\u001b[0m     \u001b[1;32mdef\u001b[0m \u001b[0msend\u001b[0m\u001b[1;33m(\u001b[0m\u001b[0mself\u001b[0m\u001b[1;33m,\u001b[0m \u001b[0mcommand_list\u001b[0m\u001b[1;33m)\u001b[0m\u001b[1;33m:\u001b[0m\u001b[1;33m\u001b[0m\u001b[1;33m\u001b[0m\u001b[0m\n",
      "\u001b[1;32m~\\AppData\\Roaming\\Python\\Python37\\site-packages\\projectq\\cengines\\_main.py\u001b[0m in \u001b[0;36msend\u001b[1;34m(self, command_list)\u001b[0m\n\u001b[0;32m    286\u001b[0m                                              \"\\n\" + repr(last_line[-2]))\n\u001b[0;32m    287\u001b[0m                 \u001b[0mcompact_exception\u001b[0m\u001b[1;33m.\u001b[0m\u001b[0m__cause__\u001b[0m \u001b[1;33m=\u001b[0m \u001b[1;32mNone\u001b[0m\u001b[1;33m\u001b[0m\u001b[1;33m\u001b[0m\u001b[0m\n\u001b[1;32m--> 288\u001b[1;33m                 \u001b[1;32mraise\u001b[0m \u001b[0mcompact_exception\u001b[0m  \u001b[1;31m# use verbose=True for more info\u001b[0m\u001b[1;33m\u001b[0m\u001b[1;33m\u001b[0m\u001b[0m\n\u001b[0m\u001b[0;32m    289\u001b[0m \u001b[1;33m\u001b[0m\u001b[0m\n\u001b[0;32m    290\u001b[0m     \u001b[1;32mdef\u001b[0m \u001b[0mflush\u001b[0m\u001b[1;33m(\u001b[0m\u001b[0mself\u001b[0m\u001b[1;33m,\u001b[0m \u001b[0mdeallocate_qubits\u001b[0m\u001b[1;33m=\u001b[0m\u001b[1;32mFalse\u001b[0m\u001b[1;33m)\u001b[0m\u001b[1;33m:\u001b[0m\u001b[1;33m\u001b[0m\u001b[1;33m\u001b[0m\u001b[0m\n",
      "\u001b[1;31mException\u001b[0m: Failed to run the circuit. Aborting.\n raised in:\n'  File \"C:\\\\Users\\\\pytho\\\\AppData\\\\Roaming\\\\Python\\\\Python37\\\\site-packages\\\\projectq\\\\backends\\\\_ibm\\\\_ibm.py\", line 309, in _run'\n'    raise Exception(\"Failed to run the circuit. Aborting.\")'"
     ]
    }
   ],
   "source": [
    "# Se transforma en otra serie de puertas equivalentes\n",
    "# distintas a las mostradas en el diagrama superior.\n",
    "# \n",
    "# qreg q[3];\n",
    "# creg c[3];\n",
    "#\n",
    "# h q[0];\n",
    "# cx q[1], q[0];\n",
    "# tdg q[0];\n",
    "# cx q[2], q[0];\n",
    "# t q[0];\n",
    "#\n",
    "# Aquí comienzan las diferencias:\n",
    "# t q[1];\n",
    "# cx q[2], q[1];\n",
    "# tdg q[1];\n",
    "# cx q[2], q[1];\n",
    "# cx q[1], q[0];\n",
    "# tdg q[0];\n",
    "# cx q[2], q[0];\n",
    "# t q[0];\n",
    "# h q[0];\n",
    "# t q[2];\n",
    "\n",
    "eng = projectq.MainEngine(IBMBackend(use_hardware=True, num_runs=1024,verbose=True,\n",
    "                                     device='ibmqx4', num_retries=30),\n",
    "                          engine_list=projectq.setups.ibm.get_engine_list())\n",
    "\n",
    "q = eng.allocate_qureg(3)\n",
    "toffoli(eng, q)\n",
    "\n",
    "eng.flush()"
   ]
  },
  {
   "cell_type": "markdown",
   "metadata": {},
   "source": [
    "12) Comprobemos los límites del simulador de ProjectQ. Crea una función que reciba un parámetro $n$ entero y cree un circuito en el que se aplica la puerta $H$ a cada uno de los qubits y luego se aplica la puerta $CNOT$ a cada par de qubits consecutivos. Finalmente, se miden todos los qubits. ¿Cuál es el mayor $n$ para el que se puede ejecutar el circuito en el simulador?"
   ]
  },
  {
   "cell_type": "code",
   "execution_count": null,
   "metadata": {},
   "outputs": [],
   "source": [
    "def stress(n):\n",
    "    print(f\"Intentando ejecutar prueba con n={n}\")\n",
    "    \n",
    "    eng = projectq.MainEngine()\n",
    "    q = eng.allocate_qureg(n)\n",
    "    \n",
    "    for i in range(n):\n",
    "        H | q[i]\n",
    "        \n",
    "    for i in range(int(n/2)):\n",
    "        CNOT | (q[i*2 + 1], q[i*2])\n",
    "        \n",
    "    All(Measure) | q\n",
    "    eng.flush()\n",
    "    \n",
    "    print(\"Ejecución terminada\")"
   ]
  },
  {
   "cell_type": "code",
   "execution_count": 18,
   "metadata": {},
   "outputs": [
    {
     "name": "stdout",
     "output_type": "stream",
     "text": [
      "--- 10 ^ 0\n",
      "Intentando ejecutar prueba con n=1\n",
      "Ejecución terminada\n",
      "--- 10 ^ 1\n",
      "Intentando ejecutar prueba con n=10\n",
      "Ejecución terminada\n",
      "--- 10 ^ 2\n",
      "Intentando ejecutar prueba con n=100\n"
     ]
    },
    {
     "ename": "MemoryError",
     "evalue": "bad allocation\n raised in:\n'  File \"C:\\\\Users\\\\pytho\\\\AppData\\\\Roaming\\\\Python\\\\Python37\\\\site-packages\\\\projectq\\\\backends\\\\_sim\\\\_simulator.py\", line 382, in _handle'\n'    self._simulator.allocate_qubit(ID)'",
     "output_type": "error",
     "traceback": [
      "\u001b[1;31m---------------------------------------------------------------------------\u001b[0m",
      "\u001b[1;31mMemoryError\u001b[0m                               Traceback (most recent call last)",
      "\u001b[1;32m<ipython-input-18-7d5b8b8c74e4>\u001b[0m in \u001b[0;36m<module>\u001b[1;34m\u001b[0m\n\u001b[0;32m     18\u001b[0m \u001b[1;32mfor\u001b[0m \u001b[0mi\u001b[0m \u001b[1;32min\u001b[0m \u001b[0mrange\u001b[0m\u001b[1;33m(\u001b[0m\u001b[1;36m30\u001b[0m\u001b[1;33m)\u001b[0m\u001b[1;33m:\u001b[0m\u001b[1;33m\u001b[0m\u001b[1;33m\u001b[0m\u001b[0m\n\u001b[0;32m     19\u001b[0m     \u001b[0mprint\u001b[0m\u001b[1;33m(\u001b[0m\u001b[1;34mf\"--- 10 ^ {i}\"\u001b[0m\u001b[1;33m)\u001b[0m\u001b[1;33m\u001b[0m\u001b[1;33m\u001b[0m\u001b[0m\n\u001b[1;32m---> 20\u001b[1;33m     \u001b[0mstress\u001b[0m\u001b[1;33m(\u001b[0m\u001b[0mint\u001b[0m\u001b[1;33m(\u001b[0m\u001b[1;36m10\u001b[0m \u001b[1;33m**\u001b[0m \u001b[0mi\u001b[0m\u001b[1;33m)\u001b[0m\u001b[1;33m)\u001b[0m\u001b[1;33m\u001b[0m\u001b[1;33m\u001b[0m\u001b[0m\n\u001b[0m\u001b[0;32m     21\u001b[0m \u001b[1;33m\u001b[0m\u001b[0m\n",
      "\u001b[1;32m<ipython-input-18-7d5b8b8c74e4>\u001b[0m in \u001b[0;36mstress\u001b[1;34m(n)\u001b[0m\n\u001b[0;32m     11\u001b[0m         \u001b[0mCNOT\u001b[0m \u001b[1;33m|\u001b[0m \u001b[1;33m(\u001b[0m\u001b[0mq\u001b[0m\u001b[1;33m[\u001b[0m\u001b[0mi\u001b[0m\u001b[1;33m*\u001b[0m\u001b[1;36m2\u001b[0m \u001b[1;33m+\u001b[0m \u001b[1;36m1\u001b[0m\u001b[1;33m]\u001b[0m\u001b[1;33m,\u001b[0m \u001b[0mq\u001b[0m\u001b[1;33m[\u001b[0m\u001b[0mi\u001b[0m\u001b[1;33m*\u001b[0m\u001b[1;36m2\u001b[0m\u001b[1;33m]\u001b[0m\u001b[1;33m)\u001b[0m\u001b[1;33m\u001b[0m\u001b[1;33m\u001b[0m\u001b[0m\n\u001b[0;32m     12\u001b[0m \u001b[1;33m\u001b[0m\u001b[0m\n\u001b[1;32m---> 13\u001b[1;33m     \u001b[0mAll\u001b[0m\u001b[1;33m(\u001b[0m\u001b[0mMeasure\u001b[0m\u001b[1;33m)\u001b[0m \u001b[1;33m|\u001b[0m \u001b[0mq\u001b[0m\u001b[1;33m\u001b[0m\u001b[1;33m\u001b[0m\u001b[0m\n\u001b[0m\u001b[0;32m     14\u001b[0m     \u001b[0meng\u001b[0m\u001b[1;33m.\u001b[0m\u001b[0mflush\u001b[0m\u001b[1;33m(\u001b[0m\u001b[1;33m)\u001b[0m\u001b[1;33m\u001b[0m\u001b[1;33m\u001b[0m\u001b[0m\n\u001b[0;32m     15\u001b[0m \u001b[1;33m\u001b[0m\u001b[0m\n",
      "\u001b[1;32m~\\AppData\\Roaming\\Python\\Python37\\site-packages\\projectq\\ops\\_metagates.py\u001b[0m in \u001b[0;36m__or__\u001b[1;34m(self, qubits)\u001b[0m\n\u001b[0;32m    290\u001b[0m         \u001b[1;32massert\u001b[0m \u001b[0misinstance\u001b[0m\u001b[1;33m(\u001b[0m\u001b[0mqubits\u001b[0m\u001b[1;33m,\u001b[0m \u001b[0mlist\u001b[0m\u001b[1;33m)\u001b[0m\u001b[1;33m\u001b[0m\u001b[1;33m\u001b[0m\u001b[0m\n\u001b[0;32m    291\u001b[0m         \u001b[1;32mfor\u001b[0m \u001b[0mqubit\u001b[0m \u001b[1;32min\u001b[0m \u001b[0mqubits\u001b[0m\u001b[1;33m:\u001b[0m\u001b[1;33m\u001b[0m\u001b[1;33m\u001b[0m\u001b[0m\n\u001b[1;32m--> 292\u001b[1;33m             \u001b[0mself\u001b[0m\u001b[1;33m.\u001b[0m\u001b[0m_gate\u001b[0m \u001b[1;33m|\u001b[0m \u001b[0mqubit\u001b[0m\u001b[1;33m\u001b[0m\u001b[1;33m\u001b[0m\u001b[0m\n\u001b[0m\u001b[0;32m    293\u001b[0m \u001b[1;33m\u001b[0m\u001b[0m\n\u001b[0;32m    294\u001b[0m \u001b[1;31m#: Shortcut (instance of) :class:`projectq.ops.Tensor`\u001b[0m\u001b[1;33m\u001b[0m\u001b[1;33m\u001b[0m\u001b[1;33m\u001b[0m\u001b[0m\n",
      "\u001b[1;32m~\\AppData\\Roaming\\Python\\Python37\\site-packages\\projectq\\ops\\_gates.py\u001b[0m in \u001b[0;36m__or__\u001b[1;34m(self, qubits)\u001b[0m\n\u001b[0;32m    282\u001b[0m                 \u001b[0mnum_qubits\u001b[0m \u001b[1;33m+=\u001b[0m \u001b[1;36m1\u001b[0m\u001b[1;33m\u001b[0m\u001b[1;33m\u001b[0m\u001b[0m\n\u001b[0;32m    283\u001b[0m                 \u001b[0mcmd\u001b[0m \u001b[1;33m=\u001b[0m \u001b[0mself\u001b[0m\u001b[1;33m.\u001b[0m\u001b[0mgenerate_command\u001b[0m\u001b[1;33m(\u001b[0m\u001b[1;33m(\u001b[0m\u001b[1;33m[\u001b[0m\u001b[0mqubit\u001b[0m\u001b[1;33m]\u001b[0m\u001b[1;33m,\u001b[0m\u001b[1;33m)\u001b[0m\u001b[1;33m)\u001b[0m\u001b[1;33m\u001b[0m\u001b[1;33m\u001b[0m\u001b[0m\n\u001b[1;32m--> 284\u001b[1;33m                 \u001b[0mapply_command\u001b[0m\u001b[1;33m(\u001b[0m\u001b[0mcmd\u001b[0m\u001b[1;33m)\u001b[0m\u001b[1;33m\u001b[0m\u001b[1;33m\u001b[0m\u001b[0m\n\u001b[0m\u001b[0;32m    285\u001b[0m         \u001b[1;32mif\u001b[0m \u001b[0mnum_qubits\u001b[0m \u001b[1;33m>\u001b[0m \u001b[1;36m1\u001b[0m\u001b[1;33m:\u001b[0m\u001b[1;33m\u001b[0m\u001b[1;33m\u001b[0m\u001b[0m\n\u001b[0;32m    286\u001b[0m             warnings.warn(\"Pending syntax change in future versions of \"\n",
      "\u001b[1;32m~\\AppData\\Roaming\\Python\\Python37\\site-packages\\projectq\\ops\\_command.py\u001b[0m in \u001b[0;36mapply_command\u001b[1;34m(cmd)\u001b[0m\n\u001b[0;32m     56\u001b[0m     \"\"\"\n\u001b[0;32m     57\u001b[0m     \u001b[0mengine\u001b[0m \u001b[1;33m=\u001b[0m \u001b[0mcmd\u001b[0m\u001b[1;33m.\u001b[0m\u001b[0mengine\u001b[0m\u001b[1;33m\u001b[0m\u001b[1;33m\u001b[0m\u001b[0m\n\u001b[1;32m---> 58\u001b[1;33m     \u001b[0mengine\u001b[0m\u001b[1;33m.\u001b[0m\u001b[0mreceive\u001b[0m\u001b[1;33m(\u001b[0m\u001b[1;33m[\u001b[0m\u001b[0mcmd\u001b[0m\u001b[1;33m]\u001b[0m\u001b[1;33m)\u001b[0m\u001b[1;33m\u001b[0m\u001b[1;33m\u001b[0m\u001b[0m\n\u001b[0m\u001b[0;32m     59\u001b[0m \u001b[1;33m\u001b[0m\u001b[0m\n\u001b[0;32m     60\u001b[0m \u001b[1;33m\u001b[0m\u001b[0m\n",
      "\u001b[1;32m~\\AppData\\Roaming\\Python\\Python37\\site-packages\\projectq\\cengines\\_main.py\u001b[0m in \u001b[0;36mreceive\u001b[1;34m(self, command_list)\u001b[0m\n\u001b[0;32m    264\u001b[0m                 then send on)\n\u001b[0;32m    265\u001b[0m         \"\"\"\n\u001b[1;32m--> 266\u001b[1;33m         \u001b[0mself\u001b[0m\u001b[1;33m.\u001b[0m\u001b[0msend\u001b[0m\u001b[1;33m(\u001b[0m\u001b[0mcommand_list\u001b[0m\u001b[1;33m)\u001b[0m\u001b[1;33m\u001b[0m\u001b[1;33m\u001b[0m\u001b[0m\n\u001b[0m\u001b[0;32m    267\u001b[0m \u001b[1;33m\u001b[0m\u001b[0m\n\u001b[0;32m    268\u001b[0m     \u001b[1;32mdef\u001b[0m \u001b[0msend\u001b[0m\u001b[1;33m(\u001b[0m\u001b[0mself\u001b[0m\u001b[1;33m,\u001b[0m \u001b[0mcommand_list\u001b[0m\u001b[1;33m)\u001b[0m\u001b[1;33m:\u001b[0m\u001b[1;33m\u001b[0m\u001b[1;33m\u001b[0m\u001b[0m\n",
      "\u001b[1;32m~\\AppData\\Roaming\\Python\\Python37\\site-packages\\projectq\\cengines\\_main.py\u001b[0m in \u001b[0;36msend\u001b[1;34m(self, command_list)\u001b[0m\n\u001b[0;32m    286\u001b[0m                                              \"\\n\" + repr(last_line[-2]))\n\u001b[0;32m    287\u001b[0m                 \u001b[0mcompact_exception\u001b[0m\u001b[1;33m.\u001b[0m\u001b[0m__cause__\u001b[0m \u001b[1;33m=\u001b[0m \u001b[1;32mNone\u001b[0m\u001b[1;33m\u001b[0m\u001b[1;33m\u001b[0m\u001b[0m\n\u001b[1;32m--> 288\u001b[1;33m                 \u001b[1;32mraise\u001b[0m \u001b[0mcompact_exception\u001b[0m  \u001b[1;31m# use verbose=True for more info\u001b[0m\u001b[1;33m\u001b[0m\u001b[1;33m\u001b[0m\u001b[0m\n\u001b[0m\u001b[0;32m    289\u001b[0m \u001b[1;33m\u001b[0m\u001b[0m\n\u001b[0;32m    290\u001b[0m     \u001b[1;32mdef\u001b[0m \u001b[0mflush\u001b[0m\u001b[1;33m(\u001b[0m\u001b[0mself\u001b[0m\u001b[1;33m,\u001b[0m \u001b[0mdeallocate_qubits\u001b[0m\u001b[1;33m=\u001b[0m\u001b[1;32mFalse\u001b[0m\u001b[1;33m)\u001b[0m\u001b[1;33m:\u001b[0m\u001b[1;33m\u001b[0m\u001b[1;33m\u001b[0m\u001b[0m\n",
      "\u001b[1;31mMemoryError\u001b[0m: bad allocation\n raised in:\n'  File \"C:\\\\Users\\\\pytho\\\\AppData\\\\Roaming\\\\Python\\\\Python37\\\\site-packages\\\\projectq\\\\backends\\\\_sim\\\\_simulator.py\", line 382, in _handle'\n'    self._simulator.allocate_qubit(ID)'"
     ]
    }
   ],
   "source": [
    "# Mi ordenador se congela al intentar ejecutar n=100.\n",
    "#\n",
    "# Tras unos 5 minutos de procesamiento la memoria se llena\n",
    "# y la ejecución falla.\n",
    "\n",
    "'''\n",
    "for i in range(30):\n",
    "    print(f\"--- 10 ^ {i}\")\n",
    "    stress(int(10 ** i))\n",
    "\n",
    "'''    "
   ]
  }
 ],
 "metadata": {
  "kernelspec": {
   "display_name": "Python 3",
   "language": "python",
   "name": "python3"
  },
  "language_info": {
   "codemirror_mode": {
    "name": "ipython",
    "version": 3
   },
   "file_extension": ".py",
   "mimetype": "text/x-python",
   "name": "python",
   "nbconvert_exporter": "python",
   "pygments_lexer": "ipython3",
   "version": "3.7.3"
  }
 },
 "nbformat": 4,
 "nbformat_minor": 2
}
