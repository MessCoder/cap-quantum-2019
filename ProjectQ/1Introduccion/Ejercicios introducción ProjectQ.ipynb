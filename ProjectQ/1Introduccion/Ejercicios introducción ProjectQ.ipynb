{
 "cells": [
  {
   "cell_type": "markdown",
   "metadata": {},
   "source": [
    "## Ejercicios de introducción a ProjectQ\n",
    "\n",
    "1) Escribe una función de nombre hello_entangled_world que reciba un *engine* y devuelva el estado de los qubits después de ejecutar el circuito de la figura.\n",
    "\n",
    "<img src=\"bell.png\" width=50%>"
   ]
  },
  {
   "cell_type": "code",
   "execution_count": 2,
   "metadata": {},
   "outputs": [],
   "source": [
    "from projectq.ops import Measure, H, CNOT, All\n",
    "\n",
    "def hello_entangled_world(eng):\n",
    "    q = eng.allocate_qureg(2)\n",
    "    \n",
    "    H | q[0]\n",
    "    \n",
    "    CNOT | (q[0], q[1])\n",
    "    \n",
    "    return (q)"
   ]
  },
  {
   "cell_type": "markdown",
   "metadata": {},
   "source": [
    "2) Usando el simulador, ejecuta el circuito 1000 veces y calcula la frecuencia de cada una de las cuatro posibles salidas. "
   ]
  },
  {
   "cell_type": "code",
   "execution_count": 3,
   "metadata": {},
   "outputs": [
    {
     "name": "stdout",
     "output_type": "stream",
     "text": [
      "0:485\n",
      "1:0\n",
      "10:0\n",
      "11:515\n"
     ]
    }
   ],
   "source": [
    "import projectq\n",
    "\n",
    "results = {0:0, 1:0, 10:0, 11:0}\n",
    "\n",
    "eng = projectq.MainEngine()\n",
    "\n",
    "for i in range(0, 1000):\n",
    "    q = hello_entangled_world(eng)\n",
    "    \n",
    "    All(Measure) | q\n",
    "    \n",
    "    results[10*int(q[0]) + int(q[1])] += 1\n",
    "    \n",
    "for key in results:\n",
    "    print(f\"{key}:{results[key]}\")\n"
   ]
  },
  {
   "cell_type": "markdown",
   "metadata": {},
   "source": [
    "3) Repite el cálculo de frecuencias, pero esta vez en el ordenador de la IBM Quantum Experience "
   ]
  },
  {
   "cell_type": "code",
   "execution_count": 4,
   "metadata": {},
   "outputs": [
    {
     "name": "stdout",
     "output_type": "stream",
     "text": [
      "- Authenticating...\n",
      "IBM QE user (e-mail) > messcoderewe@gmail.com\n",
      "IBM QE password > ········\n",
      "- There was an error running your code:\n",
      "401 Client Error: Unauthorized for url: https://quantumexperience.ng.bluemix.net/api/users/login\n"
     ]
    },
    {
     "ename": "Exception",
     "evalue": "Failed to run the circuit. Aborting.\n raised in:\n'  File \"/opt/anaconda3/lib/python3.7/site-packages/projectq/backends/_ibm/_ibm.py\", line 309, in _run'\n'    raise Exception(\"Failed to run the circuit. Aborting.\")'",
     "output_type": "error",
     "traceback": [
      "\u001b[0;31m---------------------------------------------------------------------------\u001b[0m",
      "\u001b[0;31mException\u001b[0m                                 Traceback (most recent call last)",
      "\u001b[0;32m<ipython-input-4-402164c4e40f>\u001b[0m in \u001b[0;36m<module>\u001b[0;34m\u001b[0m\n\u001b[1;32m      8\u001b[0m \u001b[0mhello_entangled_world\u001b[0m\u001b[0;34m(\u001b[0m\u001b[0meng\u001b[0m\u001b[0;34m)\u001b[0m\u001b[0;34m\u001b[0m\u001b[0;34m\u001b[0m\u001b[0m\n\u001b[1;32m      9\u001b[0m \u001b[0;34m\u001b[0m\u001b[0m\n\u001b[0;32m---> 10\u001b[0;31m \u001b[0meng\u001b[0m\u001b[0;34m.\u001b[0m\u001b[0mflush\u001b[0m\u001b[0;34m(\u001b[0m\u001b[0;34m)\u001b[0m\u001b[0;34m\u001b[0m\u001b[0;34m\u001b[0m\u001b[0m\n\u001b[0m",
      "\u001b[0;32m/opt/anaconda3/lib/python3.7/site-packages/projectq/cengines/_main.py\u001b[0m in \u001b[0;36mflush\u001b[0;34m(self, deallocate_qubits)\u001b[0m\n\u001b[1;32m    302\u001b[0m                 \u001b[0mqb\u001b[0m \u001b[0;34m=\u001b[0m \u001b[0mself\u001b[0m\u001b[0;34m.\u001b[0m\u001b[0mactive_qubits\u001b[0m\u001b[0;34m.\u001b[0m\u001b[0mpop\u001b[0m\u001b[0;34m(\u001b[0m\u001b[0;34m)\u001b[0m\u001b[0;34m\u001b[0m\u001b[0;34m\u001b[0m\u001b[0m\n\u001b[1;32m    303\u001b[0m                 \u001b[0mqb\u001b[0m\u001b[0;34m.\u001b[0m\u001b[0m__del__\u001b[0m\u001b[0;34m(\u001b[0m\u001b[0;34m)\u001b[0m\u001b[0;34m\u001b[0m\u001b[0;34m\u001b[0m\u001b[0m\n\u001b[0;32m--> 304\u001b[0;31m         \u001b[0mself\u001b[0m\u001b[0;34m.\u001b[0m\u001b[0mreceive\u001b[0m\u001b[0;34m(\u001b[0m\u001b[0;34m[\u001b[0m\u001b[0mCommand\u001b[0m\u001b[0;34m(\u001b[0m\u001b[0mself\u001b[0m\u001b[0;34m,\u001b[0m \u001b[0mFlushGate\u001b[0m\u001b[0;34m(\u001b[0m\u001b[0;34m)\u001b[0m\u001b[0;34m,\u001b[0m \u001b[0;34m(\u001b[0m\u001b[0;34m[\u001b[0m\u001b[0mWeakQubitRef\u001b[0m\u001b[0;34m(\u001b[0m\u001b[0mself\u001b[0m\u001b[0;34m,\u001b[0m \u001b[0;34m-\u001b[0m\u001b[0;36m1\u001b[0m\u001b[0;34m)\u001b[0m\u001b[0;34m]\u001b[0m\u001b[0;34m,\u001b[0m\u001b[0;34m)\u001b[0m\u001b[0;34m)\u001b[0m\u001b[0;34m]\u001b[0m\u001b[0;34m)\u001b[0m\u001b[0;34m\u001b[0m\u001b[0;34m\u001b[0m\u001b[0m\n\u001b[0m",
      "\u001b[0;32m/opt/anaconda3/lib/python3.7/site-packages/projectq/cengines/_main.py\u001b[0m in \u001b[0;36mreceive\u001b[0;34m(self, command_list)\u001b[0m\n\u001b[1;32m    264\u001b[0m                 then send on)\n\u001b[1;32m    265\u001b[0m         \"\"\"\n\u001b[0;32m--> 266\u001b[0;31m         \u001b[0mself\u001b[0m\u001b[0;34m.\u001b[0m\u001b[0msend\u001b[0m\u001b[0;34m(\u001b[0m\u001b[0mcommand_list\u001b[0m\u001b[0;34m)\u001b[0m\u001b[0;34m\u001b[0m\u001b[0;34m\u001b[0m\u001b[0m\n\u001b[0m\u001b[1;32m    267\u001b[0m \u001b[0;34m\u001b[0m\u001b[0m\n\u001b[1;32m    268\u001b[0m     \u001b[0;32mdef\u001b[0m \u001b[0msend\u001b[0m\u001b[0;34m(\u001b[0m\u001b[0mself\u001b[0m\u001b[0;34m,\u001b[0m \u001b[0mcommand_list\u001b[0m\u001b[0;34m)\u001b[0m\u001b[0;34m:\u001b[0m\u001b[0;34m\u001b[0m\u001b[0;34m\u001b[0m\u001b[0m\n",
      "\u001b[0;32m/opt/anaconda3/lib/python3.7/site-packages/projectq/cengines/_main.py\u001b[0m in \u001b[0;36msend\u001b[0;34m(self, command_list)\u001b[0m\n\u001b[1;32m    286\u001b[0m                                              \"\\n\" + repr(last_line[-2]))\n\u001b[1;32m    287\u001b[0m                 \u001b[0mcompact_exception\u001b[0m\u001b[0;34m.\u001b[0m\u001b[0m__cause__\u001b[0m \u001b[0;34m=\u001b[0m \u001b[0;32mNone\u001b[0m\u001b[0;34m\u001b[0m\u001b[0;34m\u001b[0m\u001b[0m\n\u001b[0;32m--> 288\u001b[0;31m                 \u001b[0;32mraise\u001b[0m \u001b[0mcompact_exception\u001b[0m  \u001b[0;31m# use verbose=True for more info\u001b[0m\u001b[0;34m\u001b[0m\u001b[0;34m\u001b[0m\u001b[0m\n\u001b[0m\u001b[1;32m    289\u001b[0m \u001b[0;34m\u001b[0m\u001b[0m\n\u001b[1;32m    290\u001b[0m     \u001b[0;32mdef\u001b[0m \u001b[0mflush\u001b[0m\u001b[0;34m(\u001b[0m\u001b[0mself\u001b[0m\u001b[0;34m,\u001b[0m \u001b[0mdeallocate_qubits\u001b[0m\u001b[0;34m=\u001b[0m\u001b[0;32mFalse\u001b[0m\u001b[0;34m)\u001b[0m\u001b[0;34m:\u001b[0m\u001b[0;34m\u001b[0m\u001b[0;34m\u001b[0m\u001b[0m\n",
      "\u001b[0;31mException\u001b[0m: Failed to run the circuit. Aborting.\n raised in:\n'  File \"/opt/anaconda3/lib/python3.7/site-packages/projectq/backends/_ibm/_ibm.py\", line 309, in _run'\n'    raise Exception(\"Failed to run the circuit. Aborting.\")'"
     ]
    }
   ],
   "source": [
    "import projectq.setups.ibm\n",
    "from projectq.backends import IBMBackend\n",
    "\n",
    "eng = projectq.MainEngine(IBMBackend(use_hardware=True, num_runs=1024,verbose=True,\n",
    "                                     device='ibmqx4', num_retries=30),\n",
    "                          engine_list=projectq.setups.ibm.get_engine_list())\n",
    "\n",
    "hello_entangled_world(eng)\n",
    "\n",
    "eng.flush()"
   ]
  },
  {
   "cell_type": "markdown",
   "metadata": {},
   "source": [
    "4) Accediendo directamente a la función de onda, calcula las amplitudes y las probabilidades de cada uno de los estados de la base computacional."
   ]
  },
  {
   "cell_type": "code",
   "execution_count": 5,
   "metadata": {},
   "outputs": [
    {
     "name": "stdout",
     "output_type": "stream",
     "text": [
      "00 amplitude: (0.7071067811865475+0j), probability: 0.4999999999999999\n",
      "01 amplitude: 0j, probability: 0.0\n",
      "10 amplitude: 0j, probability: 0.0\n",
      "11 amplitude: (0.7071067811865475+0j), probability: 0.4999999999999999\n"
     ]
    }
   ],
   "source": [
    "eng = projectq.MainEngine()\n",
    "\n",
    "q = hello_entangled_world(eng)\n",
    "\n",
    "eng.flush()\n",
    "\n",
    "def printWave(eng, val, q):\n",
    "    print(f\"{val} amplitude: {eng.backend.get_amplitude(val, q)}, probability: {eng.backend.get_probability(val, q)}\")\n",
    "    \n",
    "for val in ['00','01','10','11']:\n",
    "    printWave(eng, val, q)\n",
    "        "
   ]
  },
  {
   "cell_type": "markdown",
   "metadata": {},
   "source": [
    "5) ¿Crees que podrías diseñar un circuito que entrelazara 3 qubits de forma que su estado fuera $\\frac{1}{\\sqrt{2}}(|000\\rangle+|111\\rangle)$? "
   ]
  },
  {
   "cell_type": "code",
   "execution_count": 10,
   "metadata": {},
   "outputs": [
    {
     "name": "stdout",
     "output_type": "stream",
     "text": [
      "000 amplitude: (0.7071067811865475+0j), probability: 0.4999999999999999\n",
      "001 amplitude: 0j, probability: 0.0\n",
      "010 amplitude: 0j, probability: 0.0\n",
      "011 amplitude: 0j, probability: 0.0\n",
      "100 amplitude: 0j, probability: 0.0\n",
      "101 amplitude: 0j, probability: 0.0\n",
      "110 amplitude: 0j, probability: 0.0\n",
      "111 amplitude: (0.7071067811865475+0j), probability: 0.4999999999999999\n"
     ]
    }
   ],
   "source": [
    "def entangle_3(eng):\n",
    "    q = eng.allocate_qureg(3)\n",
    "    \n",
    "    H | q[0]\n",
    "    \n",
    "    CNOT | (q[0], q[1])\n",
    "    CNOT | (q[1], q[2])\n",
    "    \n",
    "    return q\n",
    "\n",
    "eng = projectq.MainEngine()\n",
    "\n",
    "q = entangle_3(eng)\n",
    "eng.flush()\n",
    "\n",
    "for val in ['000', '001', '010', '011', '100', '101', '110', '111']:\n",
    "    printWave(eng, val, q)\n",
    "    \n",
    "All(Measure) | q\n"
   ]
  },
  {
   "cell_type": "markdown",
   "metadata": {},
   "source": [
    "6) Comprueba la siguiente equivalencia de puertas $$ Z = H X H$$\n",
    "\n",
    "Para ello, ten en cuenta que es necesario y suficiente comprobar que dan el mismo resultado (obtienen el mismo estado, no sólo las mismas probabilidades) para los valores iniciales del qubit $|0\\rangle$ y $|1\\rangle$."
   ]
  },
  {
   "cell_type": "code",
   "execution_count": 23,
   "metadata": {},
   "outputs": [
    {
     "name": "stdout",
     "output_type": "stream",
     "text": [
      "Testing function: apply_z\n",
      "0 amplitude: (1+0j), probability: 1.0\n",
      "1 amplitude: 0j, probability: 0.0\n",
      "Testing function: apply_hxh\n",
      "0 amplitude: (0.9999999999999998+0j), probability: 0.9999999999999996\n",
      "1 amplitude: 0j, probability: 0.0\n"
     ]
    }
   ],
   "source": [
    "from projectq.ops import Z, H, X, All\n",
    "from itertools import product\n",
    "\n",
    "def apply_z(eng, q):\n",
    "    Z | q\n",
    "    \n",
    "def apply_hxh(eng, q):\n",
    "    H | q\n",
    "    X | q\n",
    "    H | q\n",
    "    \n",
    "def test(func, numqubit = 1):\n",
    "    \n",
    "    print(\"Testing function: \" + func.__name__)\n",
    "    \n",
    "    eng = projectq.MainEngine()\n",
    "    q = eng.allocate_qureg(numqubit)\n",
    "    \n",
    "    f(eng, q)\n",
    "    eng.flush()\n",
    "    \n",
    "    bin_values = ['0', '1']\n",
    "    for val_list in product(bin_values, repeat=numqubit):\n",
    "        val = ''.join(val_list)\n",
    "        printWave(eng, val, q)\n",
    "        \n",
    "    All(Measure) | q\n",
    "    \n",
    "for f in [apply_z, apply_hxh]:\n",
    "    \n",
    "    test(f)\n"
   ]
  },
  {
   "cell_type": "markdown",
   "metadata": {},
   "source": [
    "7) Comprueba también la siguiente equivalencia de puertas $$S^\\dagger = S S S$$"
   ]
  },
  {
   "cell_type": "code",
   "execution_count": 14,
   "metadata": {},
   "outputs": [
    {
     "name": "stdout",
     "output_type": "stream",
     "text": [
      "Testing function: inverse_S\n",
      "0 amplitude: (1+0j), probability: 1.0\n",
      "1 amplitude: 0j, probability: 0.0\n",
      "Testing function: triple_S\n",
      "0 amplitude: (1+0j), probability: 1.0\n",
      "1 amplitude: 0j, probability: 0.0\n"
     ]
    }
   ],
   "source": [
    "from projectq.ops import S, DaggeredGate\n",
    "\n",
    "def inverse_S(eng, q):\n",
    "    DaggeredGate(S) | q\n",
    "    \n",
    "def triple_S(eng, q):\n",
    "    S | q\n",
    "    S | q\n",
    "    S | q\n",
    "    \n",
    "for f in [inverse_S, triple_S]:\n",
    "    test(f)\n",
    "    "
   ]
  },
  {
   "cell_type": "markdown",
   "metadata": {},
   "source": [
    "8) ¿Qué función calcula el circuito de la figura? Ten en cuenta que ahora hay cuatro posibles valores iniciales para los qubits: $|00\\rangle,|01\\rangle,|10\\rangle$ y $|11\\rangle$.\n",
    "\n",
    "<img src=\"circuito8.png\" width=50%>"
   ]
  },
  {
   "cell_type": "code",
   "execution_count": 24,
   "metadata": {},
   "outputs": [
    {
     "name": "stdout",
     "output_type": "stream",
     "text": [
      "Testing function: fm_00\n",
      "00 amplitude: (1+0j), probability: 1.0\n",
      "01 amplitude: 0j, probability: 0.0\n",
      "10 amplitude: 0j, probability: 0.0\n",
      "11 amplitude: 0j, probability: 0.0\n",
      "Testing function: fm_01\n",
      "00 amplitude: 0j, probability: 0.0\n",
      "01 amplitude: 0j, probability: 0.0\n",
      "10 amplitude: (1+0j), probability: 1.0\n",
      "11 amplitude: 0j, probability: 0.0\n",
      "Testing function: fm_10\n",
      "00 amplitude: 0j, probability: 0.0\n",
      "01 amplitude: (1+0j), probability: 1.0\n",
      "10 amplitude: 0j, probability: 0.0\n",
      "11 amplitude: 0j, probability: 0.0\n",
      "Testing function: fm_11\n",
      "00 amplitude: 0j, probability: 0.0\n",
      "01 amplitude: 0j, probability: 0.0\n",
      "10 amplitude: 0j, probability: 0.0\n",
      "11 amplitude: (1+0j), probability: 1.0\n"
     ]
    }
   ],
   "source": [
    "# q[0] se mide al inicio, si resulta en 1 medirá q[1] y aplicará un NOT sobre él.\n",
    "# si q[0] mide 0, q[1] será medido a continuación y de medir 1 aplicará un NOT sobre q[0].\n",
    "#\n",
    "# Inicial: |00> Se estabilizarán como tal.\n",
    "# Inicial: |01> Se aplicará un NOT |10>\n",
    "# Inicial: |10> Se aplicará un NOT |01>\n",
    "# Inicial: |11> Se estabilizarán como tal.\n",
    "#\n",
    "# Esta puerta reordena los qubits, es la puerta Swap\n",
    "\n",
    "from projectq.ops import CNOT, X\n",
    "\n",
    "def func_misteriosa(eng, q):\n",
    "    CNOT | (q[0], q[1])\n",
    "    CNOT | (q[1], q[0])\n",
    "    CNOT | (q[0], q[1])\n",
    "    \n",
    "def fm_00(eng, q):\n",
    "    func_misteriosa(eng, q)\n",
    "    \n",
    "def fm_01(eng, q):\n",
    "    X | q[1]\n",
    "    func_misteriosa(eng, q)\n",
    "    \n",
    "def fm_10(eng, q):\n",
    "    X | q[0]\n",
    "    func_misteriosa(eng, q)\n",
    "    \n",
    "def fm_11(eng, q):\n",
    "    X | q[0]\n",
    "    X | q[1]\n",
    "    func_misteriosa(eng, q)\n",
    "    \n",
    "for f in [fm_00, fm_01, fm_10, fm_11]:\n",
    "    test(f, 2)\n",
    "    "
   ]
  },
  {
   "cell_type": "markdown",
   "metadata": {},
   "source": [
    "9) Determina qué función es calculada por el circuito de la figura. De nuevo, hay cuatro posibles valores iniciales para los qubits.\n",
    "\n",
    "<img src=\"circuito9.png\" width=50%>"
   ]
  },
  {
   "cell_type": "code",
   "execution_count": null,
   "metadata": {
    "collapsed": true
   },
   "outputs": [],
   "source": []
  },
  {
   "cell_type": "markdown",
   "metadata": {},
   "source": [
    "10) Comprueba que el circuito de la figura es equivalente a una puerta de Toffoli (ahora el número de posibles valores inciales que debes comprobar es 8, porque hay tres qubits). \n",
    "\n",
    "<img src=\"toffoli.png\" width=80%>"
   ]
  },
  {
   "cell_type": "code",
   "execution_count": null,
   "metadata": {
    "collapsed": true
   },
   "outputs": [],
   "source": []
  },
  {
   "cell_type": "markdown",
   "metadata": {},
   "source": [
    "11) Crea un circuito con una sola puerta de Toffoli. Si lo lanzas a ejecutar en IBM Quantum Experience, ¿en qué puertas se transforma?"
   ]
  },
  {
   "cell_type": "code",
   "execution_count": null,
   "metadata": {
    "collapsed": true
   },
   "outputs": [],
   "source": []
  },
  {
   "cell_type": "markdown",
   "metadata": {},
   "source": [
    "12) Comprobemos los límites del simulador de ProjectQ. Crea una función que reciba un parámetro $n$ entero y cree un circuito en el que se aplica la puerta $H$ a cada uno de los qubits y luego se aplica la puerta $CNOT$ a cada par de qubits consecutivos. Finalmente, se miden todos los qubits. ¿Cuál es el mayor $n$ para el que se puede ejecutar el circuito en el simulador?"
   ]
  },
  {
   "cell_type": "code",
   "execution_count": null,
   "metadata": {
    "collapsed": true
   },
   "outputs": [],
   "source": []
  }
 ],
 "metadata": {
  "kernelspec": {
   "display_name": "Python 3",
   "language": "python",
   "name": "python3"
  },
  "language_info": {
   "codemirror_mode": {
    "name": "ipython",
    "version": 3
   },
   "file_extension": ".py",
   "mimetype": "text/x-python",
   "name": "python",
   "nbconvert_exporter": "python",
   "pygments_lexer": "ipython3",
   "version": "3.7.1"
  }
 },
 "nbformat": 4,
 "nbformat_minor": 2
}
