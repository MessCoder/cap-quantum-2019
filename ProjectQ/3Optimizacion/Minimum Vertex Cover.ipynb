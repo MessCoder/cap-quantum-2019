{
 "cells": [
  {
   "cell_type": "markdown",
   "metadata": {},
   "source": [
    "# Ejercicio de optimización MVC\n",
    "\n",
    "## Introducción\n",
    "\n",
    "Este notebook contiene el ejercicio de optimización de la entrega.\n",
    "\n",
    "En él se adaptan los ejemplos mostrados en el notebook proporcionado llamado \"Ising y MaxCut con D-Wave\", modificándolos para resolver el problema de Minimum Vertex Cover o MVC.\n",
    "\n",
    "## Problema MVC\n",
    "\n",
    "El problema elegido para su modelado y resolución es el de Minimum Vertex Cover, del cual incluyo una pequeña descripción por comodidad.\n",
    "\n",
    "Partiendo de un grafo no dirigido, este problema consiste en encontrar un conjunto de vértices tan pequeño como sea posible, pero que contenga al menos un vértice de cada eje existente.\n",
    "\n",
    "## Enfoque para la parametrización del problema\n",
    "\n",
    "Para la solución de este problema, he utilizado un grafo simple arbitrario y calculado manualmente h y J a partir de él basándome en las explicaciones encontradas en el PDF proporcionado con varios ejemplos de problemas QUBO.\n",
    "\n",
    "El grafo utilizado es el siguiente:\n",
    "\n",
    "<img src=\"mvc-graph.png\" width=\"30%\">\n",
    "\n",
    "Por consistencia con el método descrito en dicho PDF, he utilizado una constante de penalización P = 8.\n",
    "\n",
    "Teniendo esto en cuenta, J y h obtienen los siguientes valores:"
   ]
  },
  {
   "cell_type": "code",
   "execution_count": 1,
   "metadata": {},
   "outputs": [],
   "source": [
    "P = 8\n",
    "\n",
    "J = { \\\n",
    "     (0,1):P, (0,2):P, (0,3):P, \\\n",
    "     (2,5):P, (3,5):P, (4,5):P, \\\n",
    "     (2,4):P \\\n",
    "}\n",
    "\n",
    "h = { \\\n",
    "     0:1-3*P, 1:1-1*P, 2:1-3*P, \\\n",
    "     3:1-2*P, 4:1-2*P, 5:1-3*P \\\n",
    "}"
   ]
  },
  {
   "cell_type": "markdown",
   "metadata": {},
   "source": [
    "Una vez definidos estos, me he abstraído del hamiltoniano generado, aunque he estudiado previamente el ejemplo mostrado en el PDF para asegurarme de que entiendo el problema y su solución. \n",
    "\n",
    "<img src=\"mvc-hamiltonian.png\" width=\"100%\">\n",
    "\n",
    "Para continuar, simplemente utilizo los métodos encontrados en el notebook mencionado, aprovechando la disponibilidad de herramientas adecuadas dentro de la libreria dimod para resolver este tipo de problemas.\n",
    "\n",
    "## Resolución Exacta"
   ]
  },
  {
   "cell_type": "code",
   "execution_count": 6,
   "metadata": {
    "scrolled": true
   },
   "outputs": [
    {
     "name": "stdout",
     "output_type": "stream",
     "text": [
      "BinaryQuadraticModel({0: -23, 1: -7, 2: -23, 3: -15, 4: -15, 5: -23}, {(0, 1): 8, (0, 2): 8, (0, 3): 8, (2, 5): 8, (2, 4): 8, (3, 5): 8, (4, 5): 8}, 0.0, Vartype.BINARY)\n",
      "    0  1  2  3  4  5 energy num_oc.\n",
      "33  1  0  0  0  1  1  -53.0       1\n",
      "57  1  0  1  0  0  1  -53.0       1\n",
      "20  0  1  1  1  1  0  -52.0       1\n",
      "22  1  0  1  1  1  0  -52.0       1\n",
      "34  1  1  0  0  1  1  -52.0       1\n",
      "38  1  0  1  0  1  1  -52.0       1\n",
      "46  1  0  0  1  1  1  -52.0       1\n",
      "52  0  1  1  1  0  1  -52.0       1\n",
      "54  1  0  1  1  0  1  -52.0       1\n",
      "58  1  1  1  0  0  1  -52.0       1\n",
      "21  1  1  1  1  1  0  -51.0       1\n",
      "37  1  1  1  0  1  1  -51.0       1\n",
      "41  1  0  1  1  1  1  -51.0       1\n",
      "43  0  1  1  1  1  1  -51.0       1\n",
      "45  1  1  0  1  1  1  -51.0       1\n",
      "53  1  1  1  1  0  1  -51.0       1\n",
      "42  1  1  1  1  1  1  -50.0       1\n",
      "62  1  0  0  0  0  1  -46.0       1\n",
      "9   1  0  1  1  0  0  -45.0       1\n",
      "11  0  1  1  1  0  0  -45.0       1\n",
      "17  1  0  0  1  1  0  -45.0       1\n",
      "23  0  0  1  1  1  0  -45.0       1\n",
      "25  1  0  1  0  1  0  -45.0       1\n",
      "49  1  0  0  1  0  1  -45.0       1\n",
      "55  0  0  1  1  0  1  -45.0       1\n",
      "59  0  1  1  0  0  1  -45.0       1\n",
      "61  1  1  0  0  0  1  -45.0       1\n",
      "10  1  1  1  1  0  0  -44.0       1\n",
      "18  1  1  0  1  1  0  -44.0       1\n",
      "26  1  1  1  0  1  0  -44.0       1\n",
      "36  0  1  1  0  1  1  -44.0       1\n",
      "40  0  0  1  1  1  1  -44.0       1\n",
      "44  0  1  0  1  1  1  -44.0       1\n",
      "50  1  1  0  1  0  1  -44.0       1\n",
      "6   1  0  1  0  0  0  -38.0       1\n",
      "8   0  0  1  1  0  0  -38.0       1\n",
      "30  1  0  0  0  1  0  -38.0       1\n",
      "56  0  0  1  0  0  1  -38.0       1\n",
      "5   1  1  1  0  0  0  -37.0       1\n",
      "19  0  1  0  1  1  0  -37.0       1\n",
      "27  0  1  1  0  1  0  -37.0       1\n",
      "29  1  1  0  0  1  0  -37.0       1\n",
      "35  0  1  0  0  1  1  -37.0       1\n",
      "39  0  0  1  0  1  1  -37.0       1\n",
      "47  0  0  0  1  1  1  -37.0       1\n",
      "51  0  1  0  1  0  1  -37.0       1\n",
      "4   0  1  1  0  0  0  -30.0       1\n",
      "14  1  0  0  1  0  0  -30.0       1\n",
      "16  0  0  0  1  1  0  -30.0       1\n",
      "24  0  0  1  0  1  0  -30.0       1\n",
      "32  0  0  0  0  1  1  -30.0       1\n",
      "48  0  0  0  1  0  1  -30.0       1\n",
      "60  0  1  0  0  0  1  -30.0       1\n",
      "13  1  1  0  1  0  0  -29.0       1\n",
      "1   1  0  0  0  0  0  -23.0       1\n",
      "7   0  0  1  0  0  0  -23.0       1\n",
      "63  0  0  0  0  0  1  -23.0       1\n",
      "2   1  1  0  0  0  0  -22.0       1\n",
      "12  0  1  0  1  0  0  -22.0       1\n",
      "28  0  1  0  0  1  0  -22.0       1\n",
      "15  0  0  0  1  0  0  -15.0       1\n",
      "31  0  0  0  0  1  0  -15.0       1\n",
      "3   0  1  0  0  0  0   -7.0       1\n",
      "0   0  0  0  0  0  0    0.0       1\n",
      "['BINARY', 64 rows, 64 samples, 6 variables]\n"
     ]
    }
   ],
   "source": [
    "import numpy as np\n",
    "import dimod\n",
    "\n",
    "model = dimod.BinaryQuadraticModel(h, J, 0.0, dimod.BINARY)\n",
    "\n",
    "print(model)\n",
    "\n",
    "from dimod.reference.samplers import ExactSolver\n",
    "\n",
    "sampler = ExactSolver()\n",
    "solution = sampler.sample(model)\n",
    "\n",
    "print(solution)"
   ]
  },
  {
   "cell_type": "markdown",
   "metadata": {},
   "source": [
    "## Resolución con Simulated Annealing\n",
    "En este caso, utilizamos un método heurístico que emula la computación cuántica adiabática en ordenadores clásicos.\n",
    "\n",
    "Además de permitir unificar computación clásica y cuántica con un mismo modelo, tengo entendido que este método también ha permitido mejoras de rendimiento con ordenadores clásicos para una cantidad considerable de problemas."
   ]
  },
  {
   "cell_type": "code",
   "execution_count": 7,
   "metadata": {},
   "outputs": [
    {
     "name": "stdout",
     "output_type": "stream",
     "text": [
      "   0  1  2  3  4  5 energy num_oc.\n",
      "0  1  0  1  0  0  1  -53.0       1\n",
      "1  1  0  1  0  0  1  -53.0       1\n",
      "2  1  0  0  0  1  1  -53.0       1\n",
      "3  1  0  1  0  0  1  -53.0       1\n",
      "4  1  0  0  0  1  1  -53.0       1\n",
      "5  1  0  1  0  0  1  -53.0       1\n",
      "6  1  0  0  0  1  1  -53.0       1\n",
      "7  1  0  1  0  0  1  -53.0       1\n",
      "8  1  0  0  0  1  1  -53.0       1\n",
      "9  1  0  1  0  0  1  -53.0       1\n",
      "['BINARY', 10 rows, 10 samples, 6 variables]\n"
     ]
    }
   ],
   "source": [
    "sampler = dimod.SimulatedAnnealingSampler()\n",
    "response = sampler.sample(model, num_reads=10)\n",
    "print(response)"
   ]
  },
  {
   "cell_type": "markdown",
   "metadata": {},
   "source": [
    "## Resolución con Computación Cuántica Adiabática en servidor D-Wave\n",
    "Requiere registro online en https://cloud.dwavesys.com/leap/"
   ]
  },
  {
   "cell_type": "code",
   "execution_count": 8,
   "metadata": {},
   "outputs": [
    {
     "ename": "ValueError",
     "evalue": "API token not defined",
     "output_type": "error",
     "traceback": [
      "\u001b[1;31m---------------------------------------------------------------------------\u001b[0m",
      "\u001b[1;31mValueError\u001b[0m                                Traceback (most recent call last)",
      "\u001b[1;32m<ipython-input-8-63618ec6c6e9>\u001b[0m in \u001b[0;36m<module>\u001b[1;34m\u001b[0m\n\u001b[0;32m      1\u001b[0m \u001b[1;32mfrom\u001b[0m \u001b[0mdwave\u001b[0m\u001b[1;33m.\u001b[0m\u001b[0msystem\u001b[0m\u001b[1;33m.\u001b[0m\u001b[0msamplers\u001b[0m \u001b[1;32mimport\u001b[0m \u001b[0mDWaveSampler\u001b[0m\u001b[1;33m\u001b[0m\u001b[1;33m\u001b[0m\u001b[0m\n\u001b[0;32m      2\u001b[0m \u001b[1;32mfrom\u001b[0m \u001b[0mdwave\u001b[0m\u001b[1;33m.\u001b[0m\u001b[0msystem\u001b[0m\u001b[1;33m.\u001b[0m\u001b[0mcomposites\u001b[0m \u001b[1;32mimport\u001b[0m \u001b[0mEmbeddingComposite\u001b[0m\u001b[1;33m\u001b[0m\u001b[1;33m\u001b[0m\u001b[0m\n\u001b[1;32m----> 3\u001b[1;33m \u001b[0msampler\u001b[0m \u001b[1;33m=\u001b[0m \u001b[0mEmbeddingComposite\u001b[0m\u001b[1;33m(\u001b[0m\u001b[0mDWaveSampler\u001b[0m\u001b[1;33m(\u001b[0m\u001b[1;33m)\u001b[0m\u001b[1;33m)\u001b[0m\u001b[1;33m\u001b[0m\u001b[1;33m\u001b[0m\u001b[0m\n\u001b[0m\u001b[0;32m      4\u001b[0m \u001b[0mresponse\u001b[0m \u001b[1;33m=\u001b[0m \u001b[0msampler\u001b[0m\u001b[1;33m.\u001b[0m\u001b[0msample\u001b[0m\u001b[1;33m(\u001b[0m\u001b[0mmodel\u001b[0m\u001b[1;33m,\u001b[0m \u001b[0mnum_reads\u001b[0m\u001b[1;33m=\u001b[0m\u001b[1;36m5000\u001b[0m\u001b[1;33m)\u001b[0m\u001b[1;33m\u001b[0m\u001b[1;33m\u001b[0m\u001b[0m\n\u001b[0;32m      5\u001b[0m \u001b[0mprint\u001b[0m\u001b[1;33m(\u001b[0m\u001b[0mresponse\u001b[0m\u001b[1;33m)\u001b[0m\u001b[1;33m\u001b[0m\u001b[1;33m\u001b[0m\u001b[0m\n",
      "\u001b[1;32m~\\Anaconda3\\lib\\site-packages\\dwave\\system\\samplers\\dwave_sampler.py\u001b[0m in \u001b[0;36m__init__\u001b[1;34m(self, **config)\u001b[0m\n\u001b[0;32m    110\u001b[0m             \u001b[0mconfig\u001b[0m\u001b[1;33m[\u001b[0m\u001b[1;34m'solver'\u001b[0m\u001b[1;33m]\u001b[0m \u001b[1;33m=\u001b[0m \u001b[0mconfig\u001b[0m\u001b[1;33m.\u001b[0m\u001b[0mpop\u001b[0m\u001b[1;33m(\u001b[0m\u001b[1;34m'solver_features'\u001b[0m\u001b[1;33m)\u001b[0m\u001b[1;33m\u001b[0m\u001b[1;33m\u001b[0m\u001b[0m\n\u001b[0;32m    111\u001b[0m \u001b[1;33m\u001b[0m\u001b[0m\n\u001b[1;32m--> 112\u001b[1;33m         \u001b[0mself\u001b[0m\u001b[1;33m.\u001b[0m\u001b[0mclient\u001b[0m \u001b[1;33m=\u001b[0m \u001b[0mClient\u001b[0m\u001b[1;33m.\u001b[0m\u001b[0mfrom_config\u001b[0m\u001b[1;33m(\u001b[0m\u001b[1;33m**\u001b[0m\u001b[0mconfig\u001b[0m\u001b[1;33m)\u001b[0m\u001b[1;33m\u001b[0m\u001b[1;33m\u001b[0m\u001b[0m\n\u001b[0m\u001b[0;32m    113\u001b[0m         \u001b[0mself\u001b[0m\u001b[1;33m.\u001b[0m\u001b[0msolver\u001b[0m \u001b[1;33m=\u001b[0m \u001b[0mself\u001b[0m\u001b[1;33m.\u001b[0m\u001b[0mclient\u001b[0m\u001b[1;33m.\u001b[0m\u001b[0mget_solver\u001b[0m\u001b[1;33m(\u001b[0m\u001b[1;33m)\u001b[0m\u001b[1;33m\u001b[0m\u001b[1;33m\u001b[0m\u001b[0m\n\u001b[0;32m    114\u001b[0m \u001b[1;33m\u001b[0m\u001b[0m\n",
      "\u001b[1;32m~\\Anaconda3\\lib\\site-packages\\dwave\\cloud\\client.py\u001b[0m in \u001b[0;36mfrom_config\u001b[1;34m(cls, config_file, profile, client, endpoint, token, solver, proxy, legacy_config_fallback, **kwargs)\u001b[0m\n\u001b[0;32m    316\u001b[0m \u001b[1;33m\u001b[0m\u001b[0m\n\u001b[0;32m    317\u001b[0m         \u001b[0m_LOGGER\u001b[0m\u001b[1;33m.\u001b[0m\u001b[0mdebug\u001b[0m\u001b[1;33m(\u001b[0m\u001b[1;34m\"Final config used for %s.Client(): %r\"\u001b[0m\u001b[1;33m,\u001b[0m \u001b[0m_client\u001b[0m\u001b[1;33m,\u001b[0m \u001b[0mconfig\u001b[0m\u001b[1;33m)\u001b[0m\u001b[1;33m\u001b[0m\u001b[1;33m\u001b[0m\u001b[0m\n\u001b[1;32m--> 318\u001b[1;33m         \u001b[1;32mreturn\u001b[0m \u001b[0m_clients\u001b[0m\u001b[1;33m[\u001b[0m\u001b[0m_client\u001b[0m\u001b[1;33m]\u001b[0m\u001b[1;33m(\u001b[0m\u001b[1;33m**\u001b[0m\u001b[0mconfig\u001b[0m\u001b[1;33m)\u001b[0m\u001b[1;33m\u001b[0m\u001b[1;33m\u001b[0m\u001b[0m\n\u001b[0m\u001b[0;32m    319\u001b[0m \u001b[1;33m\u001b[0m\u001b[0m\n\u001b[0;32m    320\u001b[0m     def __init__(self, endpoint=None, token=None, solver=None, proxy=None,\n",
      "\u001b[1;32m~\\Anaconda3\\lib\\site-packages\\dwave\\cloud\\client.py\u001b[0m in \u001b[0;36m__init__\u001b[1;34m(self, endpoint, token, solver, proxy, permissive_ssl, request_timeout, polling_timeout, connection_close, **kwargs)\u001b[0m\n\u001b[0;32m    338\u001b[0m \u001b[1;33m\u001b[0m\u001b[0m\n\u001b[0;32m    339\u001b[0m         \u001b[1;32mif\u001b[0m \u001b[1;32mnot\u001b[0m \u001b[0mtoken\u001b[0m\u001b[1;33m:\u001b[0m\u001b[1;33m\u001b[0m\u001b[1;33m\u001b[0m\u001b[0m\n\u001b[1;32m--> 340\u001b[1;33m             \u001b[1;32mraise\u001b[0m \u001b[0mValueError\u001b[0m\u001b[1;33m(\u001b[0m\u001b[1;34m\"API token not defined\"\u001b[0m\u001b[1;33m)\u001b[0m\u001b[1;33m\u001b[0m\u001b[1;33m\u001b[0m\u001b[0m\n\u001b[0m\u001b[0;32m    341\u001b[0m \u001b[1;33m\u001b[0m\u001b[0m\n\u001b[0;32m    342\u001b[0m         _LOGGER.debug(\n",
      "\u001b[1;31mValueError\u001b[0m: API token not defined"
     ]
    }
   ],
   "source": [
    "from dwave.system.samplers import DWaveSampler\n",
    "from dwave.system.composites import EmbeddingComposite\n",
    "sampler = EmbeddingComposite(DWaveSampler())\n",
    "response = sampler.sample(model, num_reads=5000)\n",
    "print(response)"
   ]
  }
 ],
 "metadata": {
  "kernelspec": {
   "display_name": "Python 3",
   "language": "python",
   "name": "python3"
  },
  "language_info": {
   "codemirror_mode": {
    "name": "ipython",
    "version": 3
   },
   "file_extension": ".py",
   "mimetype": "text/x-python",
   "name": "python",
   "nbconvert_exporter": "python",
   "pygments_lexer": "ipython3",
   "version": "3.7.3"
  }
 },
 "nbformat": 4,
 "nbformat_minor": 2
}
